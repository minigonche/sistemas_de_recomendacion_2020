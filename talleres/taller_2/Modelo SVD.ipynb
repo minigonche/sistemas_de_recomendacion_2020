{
 "cells": [
  {
   "cell_type": "markdown",
   "metadata": {},
   "source": [
    "# SVD"
   ]
  },
  {
   "cell_type": "code",
   "execution_count": 1,
   "metadata": {},
   "outputs": [],
   "source": [
    "import pandas as pd\n",
    "import numpy as np"
   ]
  },
  {
   "cell_type": "code",
   "execution_count": 3,
   "metadata": {},
   "outputs": [],
   "source": [
    "import gzip\n",
    "import surprise\n",
    "\n",
    "ubicacion = 'data/SVD/'\n",
    "\n",
    "def dar_calificacion(id_usuarios, id_businesses):\n",
    "    \n",
    "    id_usuario = id_usuarios[0]\n",
    "    id_business = id_businesses[0]\n",
    "    \n",
    "    # Lee las bd\n",
    "    tabla_u = pd.read_pickle(ubicacion + 'usuarios_id.pkl')\n",
    "    tabla_b = pd.read_pickle(ubicacion + 'negocios_id.pkl')\n",
    "    \n",
    "    # Lee la matriz de calificaciones\n",
    "    f = gzip.open(ubicacion +'0.Model_SVM.pklz','rb')\n",
    "    Model_SVM = pickle.load(f)\n",
    "    \n",
    "    pred = []\n",
    "    for i in range(len(id_usuarios)):\n",
    "        usuario = tabla_u.loc[id_usuarios[i]].new_id\n",
    "        neg = tabla_b.loc[id_businesses[i]].new_id\n",
    "        \n",
    "        p = Model_SVM.predict(usuario, neg).est\n",
    "        pred.append(p)\n",
    "    \n",
    "    return(pred)"
   ]
  },
  {
   "cell_type": "code",
   "execution_count": 7,
   "metadata": {},
   "outputs": [
    {
     "data": {
      "text/html": [
       "<div>\n",
       "<style scoped>\n",
       "    .dataframe tbody tr th:only-of-type {\n",
       "        vertical-align: middle;\n",
       "    }\n",
       "\n",
       "    .dataframe tbody tr th {\n",
       "        vertical-align: top;\n",
       "    }\n",
       "\n",
       "    .dataframe thead th {\n",
       "        text-align: right;\n",
       "    }\n",
       "</style>\n",
       "<table border=\"1\" class=\"dataframe\">\n",
       "  <thead>\n",
       "    <tr style=\"text-align: right;\">\n",
       "      <th></th>\n",
       "      <th>new_id</th>\n",
       "    </tr>\n",
       "    <tr>\n",
       "      <th>user_id</th>\n",
       "      <th></th>\n",
       "    </tr>\n",
       "  </thead>\n",
       "  <tbody>\n",
       "    <tr>\n",
       "      <th>uWVZi85Y-r3QN-PoPvHixw</th>\n",
       "      <td>533478</td>\n",
       "    </tr>\n",
       "    <tr>\n",
       "      <th>JtRGVgu9IFDm9WMZPqglKA</th>\n",
       "      <td>1394181</td>\n",
       "    </tr>\n",
       "    <tr>\n",
       "      <th>MNoaXW8yTa_mkN_XgDF1pQ</th>\n",
       "      <td>106793</td>\n",
       "    </tr>\n",
       "    <tr>\n",
       "      <th>e8RIjdmIJHNkXemF36ADbw</th>\n",
       "      <td>1601250</td>\n",
       "    </tr>\n",
       "    <tr>\n",
       "      <th>XU7pRz2E8Gz0oLUagZKAXw</th>\n",
       "      <td>1646208</td>\n",
       "    </tr>\n",
       "    <tr>\n",
       "      <th>OA1MssOyFgU7ktfuwO6t5Q</th>\n",
       "      <td>184857</td>\n",
       "    </tr>\n",
       "    <tr>\n",
       "      <th>vrMXZ3TI8Q5JvYsOTzW_lA</th>\n",
       "      <td>1864568</td>\n",
       "    </tr>\n",
       "    <tr>\n",
       "      <th>ni0wCaqbqOAHS0FYG686TA</th>\n",
       "      <td>91108</td>\n",
       "    </tr>\n",
       "    <tr>\n",
       "      <th>xdR8jmsl5-otaGBjHL-Hpw</th>\n",
       "      <td>502564</td>\n",
       "    </tr>\n",
       "    <tr>\n",
       "      <th>pQpQ_L9AxwfqIFvZjiRfaA</th>\n",
       "      <td>1723272</td>\n",
       "    </tr>\n",
       "  </tbody>\n",
       "</table>\n",
       "</div>"
      ],
      "text/plain": [
       "                         new_id\n",
       "user_id                        \n",
       "uWVZi85Y-r3QN-PoPvHixw   533478\n",
       "JtRGVgu9IFDm9WMZPqglKA  1394181\n",
       "MNoaXW8yTa_mkN_XgDF1pQ   106793\n",
       "e8RIjdmIJHNkXemF36ADbw  1601250\n",
       "XU7pRz2E8Gz0oLUagZKAXw  1646208\n",
       "OA1MssOyFgU7ktfuwO6t5Q   184857\n",
       "vrMXZ3TI8Q5JvYsOTzW_lA  1864568\n",
       "ni0wCaqbqOAHS0FYG686TA    91108\n",
       "xdR8jmsl5-otaGBjHL-Hpw   502564\n",
       "pQpQ_L9AxwfqIFvZjiRfaA  1723272"
      ]
     },
     "metadata": {},
     "output_type": "display_data"
    },
    {
     "data": {
      "text/html": [
       "<div>\n",
       "<style scoped>\n",
       "    .dataframe tbody tr th:only-of-type {\n",
       "        vertical-align: middle;\n",
       "    }\n",
       "\n",
       "    .dataframe tbody tr th {\n",
       "        vertical-align: top;\n",
       "    }\n",
       "\n",
       "    .dataframe thead th {\n",
       "        text-align: right;\n",
       "    }\n",
       "</style>\n",
       "<table border=\"1\" class=\"dataframe\">\n",
       "  <thead>\n",
       "    <tr style=\"text-align: right;\">\n",
       "      <th></th>\n",
       "      <th>new_id</th>\n",
       "    </tr>\n",
       "    <tr>\n",
       "      <th>business_id</th>\n",
       "      <th></th>\n",
       "    </tr>\n",
       "  </thead>\n",
       "  <tbody>\n",
       "    <tr>\n",
       "      <th>-sf2opYAdowtxUd--BmKxg</th>\n",
       "      <td>201699</td>\n",
       "    </tr>\n",
       "    <tr>\n",
       "      <th>EIaUR1pUniXUnLUpx4kn0Q</th>\n",
       "      <td>57000</td>\n",
       "    </tr>\n",
       "    <tr>\n",
       "      <th>03w8GCcF7dlY3n8iIUNuVQ</th>\n",
       "      <td>18184</td>\n",
       "    </tr>\n",
       "    <tr>\n",
       "      <th>_YmdbDENGlpMZG5WZYtx4Q</th>\n",
       "      <td>168103</td>\n",
       "    </tr>\n",
       "    <tr>\n",
       "      <th>NRl1PON2_XpdUQJ-FILP0w</th>\n",
       "      <td>138649</td>\n",
       "    </tr>\n",
       "    <tr>\n",
       "      <th>sTAYGlmsXZny0tYFwiOuDw</th>\n",
       "      <td>179067</td>\n",
       "    </tr>\n",
       "    <tr>\n",
       "      <th>hAoNITpnIOMgNTzjbBig6Q</th>\n",
       "      <td>58891</td>\n",
       "    </tr>\n",
       "    <tr>\n",
       "      <th>mNtCeLi3AvvpMKI_2Ojeew</th>\n",
       "      <td>87512</td>\n",
       "    </tr>\n",
       "    <tr>\n",
       "      <th>OjIFTUPLmkMZ228Z_iLtIQ</th>\n",
       "      <td>51292</td>\n",
       "    </tr>\n",
       "    <tr>\n",
       "      <th>4PNCZxJ7fwsf9TH30kwGPQ</th>\n",
       "      <td>81703</td>\n",
       "    </tr>\n",
       "  </tbody>\n",
       "</table>\n",
       "</div>"
      ],
      "text/plain": [
       "                        new_id\n",
       "business_id                   \n",
       "-sf2opYAdowtxUd--BmKxg  201699\n",
       "EIaUR1pUniXUnLUpx4kn0Q   57000\n",
       "03w8GCcF7dlY3n8iIUNuVQ   18184\n",
       "_YmdbDENGlpMZG5WZYtx4Q  168103\n",
       "NRl1PON2_XpdUQJ-FILP0w  138649\n",
       "sTAYGlmsXZny0tYFwiOuDw  179067\n",
       "hAoNITpnIOMgNTzjbBig6Q   58891\n",
       "mNtCeLi3AvvpMKI_2Ojeew   87512\n",
       "OjIFTUPLmkMZ228Z_iLtIQ   51292\n",
       "4PNCZxJ7fwsf9TH30kwGPQ   81703"
      ]
     },
     "metadata": {},
     "output_type": "display_data"
    }
   ],
   "source": [
    "tabla_b = pd.read_pickle(ubicacion + '1.Maestra_Negocios.pkl')\n",
    "tabla_b = tabla_b.set_index('business_id').rename(columns = {'New_ID_N': 'new_id'})\n",
    "tabla_b.to_pickle(ubicacion + 'negocios_id.pkl')\n",
    "\n",
    "tabla_u = pd.read_pickle(ubicacion + '1.Maestra_Usuarios.pkl')\n",
    "tabla_u = tabla_u.set_index('user_id').rename(columns = {'New_ID': 'new_id'})\n",
    "tabla_u.to_pickle(ubicacion + 'usuarios_id.pkl')\n",
    "\n",
    "display(tabla_u.sample(10))\n",
    "display(tabla_b.sample(10))"
   ]
  },
  {
   "cell_type": "code",
   "execution_count": 15,
   "metadata": {},
   "outputs": [
    {
     "ename": "AttributeError",
     "evalue": "'GzipFile' object has no attribute 'predict'",
     "output_type": "error",
     "traceback": [
      "\u001b[0;31m---------------------------------------------------------------------------\u001b[0m",
      "\u001b[0;31mAttributeError\u001b[0m                            Traceback (most recent call last)",
      "\u001b[0;32m<ipython-input-15-e5996cadf99e>\u001b[0m in \u001b[0;36m<module>\u001b[0;34m\u001b[0m\n\u001b[1;32m      1\u001b[0m \u001b[0;32mimport\u001b[0m \u001b[0mgzip\u001b[0m\u001b[0;34m\u001b[0m\u001b[0;34m\u001b[0m\u001b[0m\n\u001b[1;32m      2\u001b[0m \u001b[0mmodelo_svd\u001b[0m \u001b[0;34m=\u001b[0m \u001b[0mgzip\u001b[0m\u001b[0;34m.\u001b[0m\u001b[0mopen\u001b[0m\u001b[0;34m(\u001b[0m\u001b[0mubicacion\u001b[0m \u001b[0;34m+\u001b[0m \u001b[0;34m'0.Model_SVM.pklz'\u001b[0m\u001b[0;34m,\u001b[0m\u001b[0;34m'rb'\u001b[0m\u001b[0;34m)\u001b[0m\u001b[0;34m\u001b[0m\u001b[0;34m\u001b[0m\u001b[0m\n\u001b[0;32m----> 3\u001b[0;31m \u001b[0mmodelo_svd\u001b[0m\u001b[0;34m.\u001b[0m\u001b[0mpredict\u001b[0m\u001b[0;34m(\u001b[0m\u001b[0;36m8\u001b[0m\u001b[0;34m,\u001b[0m \u001b[0;36m2843\u001b[0m\u001b[0;34m)\u001b[0m\u001b[0;34m\u001b[0m\u001b[0;34m\u001b[0m\u001b[0m\n\u001b[0m",
      "\u001b[0;31mAttributeError\u001b[0m: 'GzipFile' object has no attribute 'predict'"
     ]
    }
   ],
   "source": [
    "\n",
    "modelo_svd = gzip.open(ubicacion + '0.Model_SVM.pklz','rb')\n",
    "modelo_svd.predict(8, 2843)"
   ]
  },
  {
   "cell_type": "code",
   "execution_count": 20,
   "metadata": {},
   "outputs": [],
   "source": [
    "import gzip\n",
    "import surprise\n",
    "f = gzip.open(ubicacion +'0.Model_SVM.pklz','rb')\n",
    "Model_SVM = pickle.load(f)\n",
    "result = Model_SVM.predict(8, 2843)"
   ]
  },
  {
   "cell_type": "code",
   "execution_count": 23,
   "metadata": {},
   "outputs": [
    {
     "data": {
      "text/plain": [
       "2.0743930821082195"
      ]
     },
     "execution_count": 23,
     "metadata": {},
     "output_type": "execute_result"
    }
   ],
   "source": [
    "Model_SVM.predict(8, 2843).est"
   ]
  },
  {
   "cell_type": "code",
   "execution_count": 21,
   "metadata": {},
   "outputs": [
    {
     "data": {
      "text/plain": [
       "Prediction(uid=8, iid=2843, r_ui=None, est=2.0743930821082195, details={'was_impossible': False})"
      ]
     },
     "execution_count": 21,
     "metadata": {},
     "output_type": "execute_result"
    }
   ],
   "source": [
    "Model_SVM.predict(8, 2843)"
   ]
  },
  {
   "cell_type": "code",
   "execution_count": 12,
   "metadata": {},
   "outputs": [
    {
     "ename": "UnpicklingError",
     "evalue": "invalid load key, '\\x1f'.",
     "output_type": "error",
     "traceback": [
      "\u001b[0;31m---------------------------------------------------------------------------\u001b[0m",
      "\u001b[0;31mUnpicklingError\u001b[0m                           Traceback (most recent call last)",
      "\u001b[0;32m<ipython-input-12-65bbb11d5b12>\u001b[0m in \u001b[0;36m<module>\u001b[0;34m\u001b[0m\n\u001b[1;32m      1\u001b[0m \u001b[0;32mwith\u001b[0m \u001b[0mopen\u001b[0m\u001b[0;34m(\u001b[0m\u001b[0mubicacion\u001b[0m \u001b[0;34m+\u001b[0m \u001b[0;34m'0.Model_SVM.pklz'\u001b[0m\u001b[0;34m,\u001b[0m \u001b[0;34m'rb'\u001b[0m\u001b[0;34m)\u001b[0m \u001b[0;32mas\u001b[0m \u001b[0mfo\u001b[0m\u001b[0;34m:\u001b[0m\u001b[0;34m\u001b[0m\u001b[0;34m\u001b[0m\u001b[0m\n\u001b[0;32m----> 2\u001b[0;31m     \u001b[0mmatriz\u001b[0m \u001b[0;34m=\u001b[0m \u001b[0mpickle\u001b[0m\u001b[0;34m.\u001b[0m\u001b[0mload\u001b[0m\u001b[0;34m(\u001b[0m\u001b[0mfo\u001b[0m\u001b[0;34m,\u001b[0m \u001b[0mencoding\u001b[0m\u001b[0;34m=\u001b[0m\u001b[0;34m'bytes'\u001b[0m\u001b[0;34m)\u001b[0m\u001b[0;34m\u001b[0m\u001b[0;34m\u001b[0m\u001b[0m\n\u001b[0m\u001b[1;32m      3\u001b[0m \u001b[0mmatriz\u001b[0m\u001b[0;34m\u001b[0m\u001b[0;34m\u001b[0m\u001b[0m\n",
      "\u001b[0;31mUnpicklingError\u001b[0m: invalid load key, '\\x1f'."
     ]
    }
   ],
   "source": [
    "with open(ubicacion + '0.Model_SVM.pklz', 'rb') as fo:\n",
    "    matriz = pickle.load(fo, encoding='bytes')\n",
    "matriz"
   ]
  },
  {
   "cell_type": "code",
   "execution_count": 11,
   "metadata": {},
   "outputs": [
    {
     "ename": "TypeError",
     "evalue": "file must have 'read' and 'readline' attributes",
     "output_type": "error",
     "traceback": [
      "\u001b[0;31m---------------------------------------------------------------------------\u001b[0m",
      "\u001b[0;31mTypeError\u001b[0m                                 Traceback (most recent call last)",
      "\u001b[0;32m<ipython-input-11-9d180c00ff25>\u001b[0m in \u001b[0;36m<module>\u001b[0;34m\u001b[0m\n\u001b[1;32m      1\u001b[0m \u001b[0;32mimport\u001b[0m \u001b[0mpickle\u001b[0m\u001b[0;34m\u001b[0m\u001b[0;34m\u001b[0m\u001b[0m\n\u001b[0;32m----> 2\u001b[0;31m \u001b[0mmatriz\u001b[0m  \u001b[0;34m=\u001b[0m \u001b[0mpickle\u001b[0m\u001b[0;34m.\u001b[0m\u001b[0mUnpickler\u001b[0m\u001b[0;34m(\u001b[0m\u001b[0mubicacion\u001b[0m \u001b[0;34m+\u001b[0m \u001b[0;34m'0.Model_SVM.pklz'\u001b[0m\u001b[0;34m)\u001b[0m\u001b[0;34m.\u001b[0m\u001b[0mload\u001b[0m\u001b[0;34m(\u001b[0m\u001b[0;34m)\u001b[0m\u001b[0;34m\u001b[0m\u001b[0;34m\u001b[0m\u001b[0m\n\u001b[0m",
      "\u001b[0;31mTypeError\u001b[0m: file must have 'read' and 'readline' attributes"
     ]
    }
   ],
   "source": [
    "import pickle\n",
    "matriz  = pickle.Unpickler().load()"
   ]
  },
  {
   "cell_type": "code",
   "execution_count": null,
   "metadata": {},
   "outputs": [],
   "source": []
  }
 ],
 "metadata": {
  "kernelspec": {
   "display_name": "Python 3",
   "language": "python",
   "name": "python3"
  },
  "language_info": {
   "codemirror_mode": {
    "name": "ipython",
    "version": 3
   },
   "file_extension": ".py",
   "mimetype": "text/x-python",
   "name": "python",
   "nbconvert_exporter": "python",
   "pygments_lexer": "ipython3",
   "version": "3.7.6"
  }
 },
 "nbformat": 4,
 "nbformat_minor": 4
}
