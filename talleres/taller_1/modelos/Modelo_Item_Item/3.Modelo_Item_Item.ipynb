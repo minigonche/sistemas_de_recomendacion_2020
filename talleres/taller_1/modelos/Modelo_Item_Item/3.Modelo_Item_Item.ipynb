{
 "cells": [
  {
   "cell_type": "markdown",
   "metadata": {},
   "source": [
    "# Modelo Item - Item con mejores parametros"
   ]
  },
  {
   "cell_type": "code",
   "execution_count": 1,
   "metadata": {},
   "outputs": [],
   "source": [
    "import numpy as np\n",
    "import pandas as pd\n",
    "import time\n",
    "from surprise import Reader\n",
    "from surprise import Dataset\n",
    "from surprise.model_selection import train_test_split\n",
    "from surprise import KNNBasic\n",
    "from surprise import accuracy\n",
    "import pickle\n",
    "import warnings\n",
    "import gzip\n",
    "warnings.filterwarnings(\"ignore\")"
   ]
  },
  {
   "cell_type": "markdown",
   "metadata": {},
   "source": [
    "# Carga Matriz Ratings"
   ]
  },
  {
   "cell_type": "code",
   "execution_count": 2,
   "metadata": {},
   "outputs": [
    {
     "name": "stdout",
     "output_type": "stream",
     "text": [
      "D:\\Dataset_1\\lastfm-dataset-1K\\Modelo_Item_Item\n"
     ]
    }
   ],
   "source": [
    "%cd D:/Dataset_1/lastfm-dataset-1K/Modelo_Item_Item\n",
    "#Carga Dataframe Ratings\n",
    "df_ratings = pd.read_pickle(\"1.Ratings_Normalizacion_Log.pkl\")\n",
    "df_ratings.rating_lineal = round(df_ratings.rating_lineal)\n",
    "df_ratings['rating_lineal'] = df_ratings['rating_lineal'].astype('uint8')"
   ]
  },
  {
   "cell_type": "markdown",
   "metadata": {},
   "source": [
    "# Carga de resultados de evaluación previamente obtenidos"
   ]
  },
  {
   "cell_type": "code",
   "execution_count": 3,
   "metadata": {},
   "outputs": [],
   "source": [
    "df_resultados_item = pd.read_pickle(\"1.Evaluacion_Cos_Pearson_Jaccard_ModeloItem_Final.pkl\")\n",
    "#Obtención de mejores parametros para el modelo\n",
    "df_best_params = df_resultados_item[df_resultados_item.Indice != 'jaccard']\n",
    "df_best_params = df_best_params.sort_values('RMSE', ascending = True).head(1)\n",
    "\n",
    "best_k = df_best_params['Tamanio_Vecindario'].values[0]\n",
    "Umbral = df_best_params['Umbral_Similitud'].values[0]\n",
    "Medida = df_best_params['Indice'].values[0]"
   ]
  },
  {
   "cell_type": "code",
   "execution_count": 4,
   "metadata": {},
   "outputs": [
    {
     "data": {
      "text/html": [
       "<div>\n",
       "<style scoped>\n",
       "    .dataframe tbody tr th:only-of-type {\n",
       "        vertical-align: middle;\n",
       "    }\n",
       "\n",
       "    .dataframe tbody tr th {\n",
       "        vertical-align: top;\n",
       "    }\n",
       "\n",
       "    .dataframe thead th {\n",
       "        text-align: right;\n",
       "    }\n",
       "</style>\n",
       "<table border=\"1\" class=\"dataframe\">\n",
       "  <thead>\n",
       "    <tr style=\"text-align: right;\">\n",
       "      <th></th>\n",
       "      <th>Tamanio_Vecindario</th>\n",
       "      <th>Umbral_Similitud</th>\n",
       "      <th>Indice</th>\n",
       "      <th>Inicio_seg</th>\n",
       "      <th>Fin_seg</th>\n",
       "      <th>RMSE</th>\n",
       "      <th>Tiempo_Total</th>\n",
       "    </tr>\n",
       "  </thead>\n",
       "  <tbody>\n",
       "    <tr>\n",
       "      <th>8</th>\n",
       "      <td>32</td>\n",
       "      <td>0.7</td>\n",
       "      <td>cosine</td>\n",
       "      <td>26329.812008</td>\n",
       "      <td>29570.290111</td>\n",
       "      <td>0.715442</td>\n",
       "      <td>54.007968</td>\n",
       "    </tr>\n",
       "  </tbody>\n",
       "</table>\n",
       "</div>"
      ],
      "text/plain": [
       "   Tamanio_Vecindario  Umbral_Similitud  Indice    Inicio_seg       Fin_seg  \\\n",
       "8                  32               0.7  cosine  26329.812008  29570.290111   \n",
       "\n",
       "       RMSE  Tiempo_Total  \n",
       "8  0.715442     54.007968  "
      ]
     },
     "execution_count": 4,
     "metadata": {},
     "output_type": "execute_result"
    }
   ],
   "source": [
    "df_best_params"
   ]
  },
  {
   "cell_type": "markdown",
   "metadata": {},
   "source": [
    "# Aplicación del modelo"
   ]
  },
  {
   "cell_type": "code",
   "execution_count": 14,
   "metadata": {},
   "outputs": [
    {
     "name": "stdout",
     "output_type": "stream",
     "text": [
      "Computing the cosine similarity matrix...\n",
      "Done computing similarity matrix.\n",
      "RMSE: 0.7102\n"
     ]
    },
    {
     "data": {
      "text/plain": [
       "0.7101972567682321"
      ]
     },
     "execution_count": 14,
     "metadata": {},
     "output_type": "execute_result"
    }
   ],
   "source": [
    "reader = Reader( rating_scale = ( 1, 5 ) )\n",
    "dataset_ratings = Dataset.load_from_df( df_ratings[ [ 'user_id', 'artname', 'rating_lineal']], reader )\n",
    "# Particionamiento de Dataframe 80% entrenamiento y 20% Validación\n",
    "train_set, test_set=  train_test_split(dataset_ratings, test_size=.2)\n",
    "# Configuración de parametros\n",
    "sim_options = {'name': Medida,'user_based': False , 'min_support': Umbral}\n",
    "model = KNNBasic(k=best_k, min_k=2, sim_options=sim_options)\n",
    "\n",
    "#Se le pasa la matriz de utilidad al algoritmo, es decir, el conjunto de entrenamiento\n",
    "model.fit(trainset=train_set)\n",
    "\n",
    "# Cálculo de predicción para todos los items del conjunto de validación\n",
    "test_predictions=model.test(test_set)\n",
    "\n",
    "#df_predictions = pd.DataFrame.from_records(list(map(lambda x: (x.uid, x.iid, x.est) , test_predictions)), columns=labels)\n",
    "accuracy.rmse( test_predictions, verbose = True )"
   ]
  },
  {
   "cell_type": "code",
   "execution_count": 6,
   "metadata": {},
   "outputs": [],
   "source": [
    "# Dataset de validación \n",
    "df_validacion = pd.DataFrame(test_set, columns = [\"user_id\", \"artname\", \"rating\"])\n",
    "df_validacion.to_pickle(\"2.Datos_Validacion_ModeloItem.pkl\")"
   ]
  },
  {
   "cell_type": "markdown",
   "metadata": {},
   "source": [
    "# Exportación Modelo"
   ]
  },
  {
   "cell_type": "code",
   "execution_count": 21,
   "metadata": {},
   "outputs": [
    {
     "data": {
      "text/plain": [
       "['3.Model_Item_Item1.pklz']"
      ]
     },
     "execution_count": 21,
     "metadata": {},
     "output_type": "execute_result"
    }
   ],
   "source": [
    "import joblib\n",
    "joblib.dump(model,filename='3.Model_Item_Item1.pklz')"
   ]
  },
  {
   "cell_type": "code",
   "execution_count": 22,
   "metadata": {},
   "outputs": [],
   "source": [
    "f = gzip.open('3.Model_Item_Item.pklz','wb')\n",
    "pickle.dump(model,f, protocol=4)\n",
    "f.close()"
   ]
  },
  {
   "cell_type": "markdown",
   "metadata": {},
   "source": [
    "# Prueba Importación y predicción con parametros"
   ]
  },
  {
   "cell_type": "code",
   "execution_count": 23,
   "metadata": {},
   "outputs": [
    {
     "data": {
      "text/plain": [
       "Prediction(uid=8, iid=2843, r_ui=None, est=1.5663272619754651, details={'actual_k': 27, 'was_impossible': False})"
      ]
     },
     "execution_count": 23,
     "metadata": {},
     "output_type": "execute_result"
    }
   ],
   "source": [
    "#restore the object\n",
    "f = gzip.open('3.Model_Item_Item.pklz','rb')\n",
    "Model_UU = pickle.load(f)\n",
    "result = Model_UU.predict(8, 2843)\n",
    "f.close()\n",
    "result"
   ]
  }
 ],
 "metadata": {
  "kernelspec": {
   "display_name": "Python 3",
   "language": "python",
   "name": "python3"
  },
  "language_info": {
   "codemirror_mode": {
    "name": "ipython",
    "version": 3
   },
   "file_extension": ".py",
   "mimetype": "text/x-python",
   "name": "python",
   "nbconvert_exporter": "python",
   "pygments_lexer": "ipython3",
   "version": "3.7.1"
  }
 },
 "nbformat": 4,
 "nbformat_minor": 4
}
