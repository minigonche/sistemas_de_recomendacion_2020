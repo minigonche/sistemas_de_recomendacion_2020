{
 "cells": [
  {
   "cell_type": "code",
   "execution_count": 49,
   "metadata": {},
   "outputs": [],
   "source": [
    "import os\n",
    "import numpy as np\n",
    "import pandas as pd\n",
    "import random\n",
    "import sklearn\n",
    "import seaborn as sns\n",
    "import matplotlib.pyplot as plt \n",
    "import gzip\n",
    "import pickle\n",
    "from surprise import Reader\n",
    "from surprise import Dataset\n",
    "from surprise.model_selection import train_test_split\n",
    "from surprise import KNNBasic\n",
    "from surprise import accuracy\n",
    "from sklearn.preprocessing import MinMaxScaler\n",
    "from sklearn.preprocessing import RobustScaler\n",
    "import warnings\n",
    "warnings.filterwarnings(\"ignore\")"
   ]
  },
  {
   "cell_type": "code",
   "execution_count": 2,
   "metadata": {},
   "outputs": [],
   "source": [
    "#Para garantizar reproducibilidad en resultados\n",
    "seed = 10\n",
    "random.seed(seed)\n",
    "np.random.seed(seed)"
   ]
  },
  {
   "cell_type": "code",
   "execution_count": 3,
   "metadata": {},
   "outputs": [],
   "source": [
    "def missing_values_table(df): \n",
    "        mis_val = df.isnull().sum()\n",
    "        mis_val_percent = 100 * df.isnull().sum()/len(df)\n",
    "        mis_val_table = pd.concat([mis_val, mis_val_percent], axis=1)\n",
    "        mis_val_table_ren_columns = mis_val_table.rename(\n",
    "        columns = {0 : 'Missing Values', 1 : '% of Total Values'})\n",
    "        return mis_val_table_ren_columns "
   ]
  },
  {
   "cell_type": "code",
   "execution_count": 4,
   "metadata": {},
   "outputs": [
    {
     "name": "stdout",
     "output_type": "stream",
     "text": [
      "D:\\Dataset_1\\lastfm-dataset-1K\n"
     ]
    }
   ],
   "source": [
    "%cd D:/Dataset_1/lastfm-dataset-1K"
   ]
  },
  {
   "cell_type": "code",
   "execution_count": 58,
   "metadata": {},
   "outputs": [],
   "source": [
    "PathUser = \"D:/Dataset_1/lastfm-dataset-1K/Modelo_Usuario_Usuario/\"\n",
    "PathItem = \"D:/Dataset_1/lastfm-dataset-1K/Modelo_Item_Item/\"\n",
    "PathMaestras = \"D:/Dataset_1/lastfm-dataset-1K/Matriz_Ratings/Maestras/\""
   ]
  },
  {
   "cell_type": "markdown",
   "metadata": {},
   "source": [
    "# Carga de archivos"
   ]
  },
  {
   "cell_type": "code",
   "execution_count": 5,
   "metadata": {},
   "outputs": [],
   "source": [
    "# Definición de nombres de archivos\n",
    "path_userid = \"userid-profile.tsv\"\n",
    "path_userbehavior = \"userid-timestamp-artid-artname-traid-traname.tsv\"\n",
    "path_test = \"test.tsv\""
   ]
  },
  {
   "cell_type": "code",
   "execution_count": 6,
   "metadata": {},
   "outputs": [],
   "source": [
    "# Carga de archivos en Dataset\n",
    "df_Userid = pd.read_csv(path_userid, sep='\\t', header=0)\n",
    "df_Userid.columns = ['user_id', 'gender', 'age', 'country', 'registered']\n",
    "df_Userbehavior = pd.read_csv(path_userbehavior, sep='\\t', usecols=[0, 1,2,3,4,5], header=None)\n",
    "df_Userbehavior.columns = ['user_id', 'timestamp', 'artid', 'artname', 'traid', 'traname']"
   ]
  },
  {
   "cell_type": "code",
   "execution_count": 7,
   "metadata": {},
   "outputs": [],
   "source": [
    "# Conversión y tratamiento de variable a tipo \n",
    "df_Userbehavior['timestamp'] = df_Userbehavior['timestamp'].astype('datetime64[ns]') \n",
    "df_Userbehavior['year'] = pd.DatetimeIndex(df_Userbehavior['timestamp']).year\n",
    "df_Userbehavior['month'] = pd.DatetimeIndex(df_Userbehavior['timestamp']).month"
   ]
  },
  {
   "cell_type": "markdown",
   "metadata": {},
   "source": [
    "# Datos descriptivos "
   ]
  },
  {
   "cell_type": "code",
   "execution_count": 8,
   "metadata": {},
   "outputs": [
    {
     "name": "stdout",
     "output_type": "stream",
     "text": [
      "992\n",
      "992\n"
     ]
    }
   ],
   "source": [
    "# Total de usuarios registrados\n",
    "print(df_Userid['user_id'].nunique())\n",
    "print(df_Userbehavior['user_id'].nunique())"
   ]
  },
  {
   "cell_type": "code",
   "execution_count": 9,
   "metadata": {},
   "outputs": [
    {
     "data": {
      "text/html": [
       "<div>\n",
       "<style scoped>\n",
       "    .dataframe tbody tr th:only-of-type {\n",
       "        vertical-align: middle;\n",
       "    }\n",
       "\n",
       "    .dataframe tbody tr th {\n",
       "        vertical-align: top;\n",
       "    }\n",
       "\n",
       "    .dataframe thead th {\n",
       "        text-align: right;\n",
       "    }\n",
       "</style>\n",
       "<table border=\"1\" class=\"dataframe\">\n",
       "  <thead>\n",
       "    <tr style=\"text-align: right;\">\n",
       "      <th></th>\n",
       "      <th>Missing Values</th>\n",
       "      <th>% of Total Values</th>\n",
       "    </tr>\n",
       "  </thead>\n",
       "  <tbody>\n",
       "    <tr>\n",
       "      <th>user_id</th>\n",
       "      <td>0</td>\n",
       "      <td>0.000000</td>\n",
       "    </tr>\n",
       "    <tr>\n",
       "      <th>timestamp</th>\n",
       "      <td>0</td>\n",
       "      <td>0.000000</td>\n",
       "    </tr>\n",
       "    <tr>\n",
       "      <th>artid</th>\n",
       "      <td>600853</td>\n",
       "      <td>3.146015</td>\n",
       "    </tr>\n",
       "    <tr>\n",
       "      <th>artname</th>\n",
       "      <td>0</td>\n",
       "      <td>0.000000</td>\n",
       "    </tr>\n",
       "    <tr>\n",
       "      <th>traid</th>\n",
       "      <td>2162726</td>\n",
       "      <td>11.323847</td>\n",
       "    </tr>\n",
       "    <tr>\n",
       "      <th>traname</th>\n",
       "      <td>12</td>\n",
       "      <td>0.000063</td>\n",
       "    </tr>\n",
       "    <tr>\n",
       "      <th>year</th>\n",
       "      <td>0</td>\n",
       "      <td>0.000000</td>\n",
       "    </tr>\n",
       "    <tr>\n",
       "      <th>month</th>\n",
       "      <td>0</td>\n",
       "      <td>0.000000</td>\n",
       "    </tr>\n",
       "  </tbody>\n",
       "</table>\n",
       "</div>"
      ],
      "text/plain": [
       "           Missing Values  % of Total Values\n",
       "user_id                 0           0.000000\n",
       "timestamp               0           0.000000\n",
       "artid              600853           3.146015\n",
       "artname                 0           0.000000\n",
       "traid             2162726          11.323847\n",
       "traname                12           0.000063\n",
       "year                    0           0.000000\n",
       "month                   0           0.000000"
      ]
     },
     "execution_count": 9,
     "metadata": {},
     "output_type": "execute_result"
    }
   ],
   "source": [
    "missing_values_table(df_Userbehavior)"
   ]
  },
  {
   "cell_type": "code",
   "execution_count": 10,
   "metadata": {},
   "outputs": [
    {
     "name": "stdout",
     "output_type": "stream",
     "text": [
      "173923\n",
      "107295\n"
     ]
    }
   ],
   "source": [
    "# Cantidad total de nombres de artistas escuchados  \n",
    "print(df_Userbehavior['artname'].nunique())\n",
    "# Cantidad total de identificación de artistas escuchados  \n",
    "print(df_Userbehavior['artid'].nunique())"
   ]
  },
  {
   "cell_type": "markdown",
   "metadata": {},
   "source": [
    " NO TODOS LOS ARTISTAS TIENEN ID, los que NO corresponde a que no se encuentran en MBID (MUSIC BRAINZ IDENTIFIER)"
   ]
  },
  {
   "cell_type": "markdown",
   "metadata": {},
   "source": [
    "# CONSTRUCCIÓN DE VARIABLE RAITING"
   ]
  },
  {
   "cell_type": "markdown",
   "metadata": {},
   "source": [
    "# Es construida con usuarios vs nombres de artistas (estos agrupan información y pueden ser más escalables que las canciones)"
   ]
  },
  {
   "cell_type": "code",
   "execution_count": 11,
   "metadata": {},
   "outputs": [
    {
     "data": {
      "text/plain": [
       "(897421, 2)"
      ]
     },
     "execution_count": 11,
     "metadata": {},
     "output_type": "execute_result"
    }
   ],
   "source": [
    "df_User_artname = df_Userbehavior[['user_id', 'artname']]\n",
    "df_User_artname = df_User_artname.drop_duplicates()\n",
    "df_User_artname.shape"
   ]
  },
  {
   "cell_type": "code",
   "execution_count": 12,
   "metadata": {},
   "outputs": [
    {
     "name": "stdout",
     "output_type": "stream",
     "text": [
      "Nuevo Dataframe:19098862 Dataframe Original:19098862\n"
     ]
    },
    {
     "data": {
      "text/html": [
       "<div>\n",
       "<style scoped>\n",
       "    .dataframe tbody tr th:only-of-type {\n",
       "        vertical-align: middle;\n",
       "    }\n",
       "\n",
       "    .dataframe tbody tr th {\n",
       "        vertical-align: top;\n",
       "    }\n",
       "\n",
       "    .dataframe thead th {\n",
       "        text-align: right;\n",
       "    }\n",
       "</style>\n",
       "<table border=\"1\" class=\"dataframe\">\n",
       "  <thead>\n",
       "    <tr style=\"text-align: right;\">\n",
       "      <th></th>\n",
       "      <th>artname</th>\n",
       "      <th>user_id</th>\n",
       "      <th>count</th>\n",
       "    </tr>\n",
       "  </thead>\n",
       "  <tbody>\n",
       "    <tr>\n",
       "      <th>400085</th>\n",
       "      <td>Kanye West</td>\n",
       "      <td>user_000008</td>\n",
       "      <td>26496</td>\n",
       "    </tr>\n",
       "    <tr>\n",
       "      <th>144203</th>\n",
       "      <td>Chemistry</td>\n",
       "      <td>user_000141</td>\n",
       "      <td>25609</td>\n",
       "    </tr>\n",
       "    <tr>\n",
       "      <th>769610</th>\n",
       "      <td>The Knife</td>\n",
       "      <td>user_000499</td>\n",
       "      <td>18597</td>\n",
       "    </tr>\n",
       "    <tr>\n",
       "      <th>678218</th>\n",
       "      <td>Soilwork</td>\n",
       "      <td>user_000889</td>\n",
       "      <td>15566</td>\n",
       "    </tr>\n",
       "    <tr>\n",
       "      <th>117555</th>\n",
       "      <td>Britney Spears</td>\n",
       "      <td>user_000084</td>\n",
       "      <td>14614</td>\n",
       "    </tr>\n",
       "  </tbody>\n",
       "</table>\n",
       "</div>"
      ],
      "text/plain": [
       "               artname      user_id  count\n",
       "400085      Kanye West  user_000008  26496\n",
       "144203       Chemistry  user_000141  25609\n",
       "769610       The Knife  user_000499  18597\n",
       "678218        Soilwork  user_000889  15566\n",
       "117555  Britney Spears  user_000084  14614"
      ]
     },
     "execution_count": 12,
     "metadata": {},
     "output_type": "execute_result"
    }
   ],
   "source": [
    "# Tabla de frecuencias de usuario - artista\n",
    "df_agg1 = df_Userbehavior.groupby(['artname' , 'user_id'])['user_id'].agg({'count'})\n",
    "df_agg1 = df_agg1.reset_index(level=[0,1,])\n",
    "\n",
    "# Comprobación de totales de dataframe de frecuencias y dataframe original de interacciones\n",
    "print('Nuevo Dataframe:'+ str(df_agg1['count'].sum()), 'Dataframe Original:'+ str(df_Userbehavior.shape[0]))\n",
    "\n",
    "#Verificación dataset agregado\n",
    "df_agg1.sort_values('count', ascending = False).head(5)"
   ]
  },
  {
   "cell_type": "code",
   "execution_count": 13,
   "metadata": {},
   "outputs": [
    {
     "data": {
      "text/html": [
       "<div>\n",
       "<style scoped>\n",
       "    .dataframe tbody tr th:only-of-type {\n",
       "        vertical-align: middle;\n",
       "    }\n",
       "\n",
       "    .dataframe tbody tr th {\n",
       "        vertical-align: top;\n",
       "    }\n",
       "\n",
       "    .dataframe thead th {\n",
       "        text-align: right;\n",
       "    }\n",
       "</style>\n",
       "<table border=\"1\" class=\"dataframe\">\n",
       "  <thead>\n",
       "    <tr style=\"text-align: right;\">\n",
       "      <th></th>\n",
       "      <th>count</th>\n",
       "    </tr>\n",
       "  </thead>\n",
       "  <tbody>\n",
       "    <tr>\n",
       "      <th>count</th>\n",
       "      <td>897421.000000</td>\n",
       "    </tr>\n",
       "    <tr>\n",
       "      <th>mean</th>\n",
       "      <td>21.281942</td>\n",
       "    </tr>\n",
       "    <tr>\n",
       "      <th>std</th>\n",
       "      <td>118.216548</td>\n",
       "    </tr>\n",
       "    <tr>\n",
       "      <th>min</th>\n",
       "      <td>1.000000</td>\n",
       "    </tr>\n",
       "    <tr>\n",
       "      <th>25%</th>\n",
       "      <td>1.000000</td>\n",
       "    </tr>\n",
       "    <tr>\n",
       "      <th>50%</th>\n",
       "      <td>3.000000</td>\n",
       "    </tr>\n",
       "    <tr>\n",
       "      <th>75%</th>\n",
       "      <td>10.000000</td>\n",
       "    </tr>\n",
       "    <tr>\n",
       "      <th>max</th>\n",
       "      <td>26496.000000</td>\n",
       "    </tr>\n",
       "  </tbody>\n",
       "</table>\n",
       "</div>"
      ],
      "text/plain": [
       "               count\n",
       "count  897421.000000\n",
       "mean       21.281942\n",
       "std       118.216548\n",
       "min         1.000000\n",
       "25%         1.000000\n",
       "50%         3.000000\n",
       "75%        10.000000\n",
       "max     26496.000000"
      ]
     },
     "execution_count": 13,
     "metadata": {},
     "output_type": "execute_result"
    }
   ],
   "source": [
    "# Summarized de variable de frecuencia\n",
    "df_agg1.describe()"
   ]
  },
  {
   "cell_type": "code",
   "execution_count": 14,
   "metadata": {},
   "outputs": [],
   "source": [
    "lista_users = df_Userid.user_id.values\n",
    "\n",
    "# Cálculo de ratings por usuario y artista\n",
    "scaler = MinMaxScaler(feature_range=(1,5))\n",
    "largo = range(len(lista_users))\n",
    "for i in largo :\n",
    "    df_tmp = df_agg1[df_agg1.user_id==lista_users[i]]\n",
    "    df_tmp['rating_lineal'] = scaler.fit_transform(df_tmp[['count']])\n",
    "    if i == 0:\n",
    "        df_ratings = df_tmp\n",
    "    else:\n",
    "        df_ratings = df_ratings.append(df_tmp, ignore_index=True)\n",
    "\n"
   ]
  },
  {
   "cell_type": "code",
   "execution_count": 15,
   "metadata": {},
   "outputs": [
    {
     "name": "stdout",
     "output_type": "stream",
     "text": [
      "897421 897421\n"
     ]
    },
    {
     "data": {
      "text/html": [
       "<div>\n",
       "<style scoped>\n",
       "    .dataframe tbody tr th:only-of-type {\n",
       "        vertical-align: middle;\n",
       "    }\n",
       "\n",
       "    .dataframe tbody tr th {\n",
       "        vertical-align: top;\n",
       "    }\n",
       "\n",
       "    .dataframe thead th {\n",
       "        text-align: right;\n",
       "    }\n",
       "</style>\n",
       "<table border=\"1\" class=\"dataframe\">\n",
       "  <thead>\n",
       "    <tr style=\"text-align: right;\">\n",
       "      <th></th>\n",
       "      <th>artname</th>\n",
       "      <th>user_id</th>\n",
       "      <th>count</th>\n",
       "      <th>rating_lineal</th>\n",
       "    </tr>\n",
       "  </thead>\n",
       "  <tbody>\n",
       "    <tr>\n",
       "      <th>226710</th>\n",
       "      <td>Enya</td>\n",
       "      <td>user_000260</td>\n",
       "      <td>1082</td>\n",
       "      <td>5.0</td>\n",
       "    </tr>\n",
       "    <tr>\n",
       "      <th>823133</th>\n",
       "      <td>Pj Harvey</td>\n",
       "      <td>user_000914</td>\n",
       "      <td>1781</td>\n",
       "      <td>5.0</td>\n",
       "    </tr>\n",
       "    <tr>\n",
       "      <th>334226</th>\n",
       "      <td>The Doors</td>\n",
       "      <td>user_000389</td>\n",
       "      <td>909</td>\n",
       "      <td>5.0</td>\n",
       "    </tr>\n",
       "    <tr>\n",
       "      <th>678816</th>\n",
       "      <td>Ac/Dc</td>\n",
       "      <td>user_000761</td>\n",
       "      <td>1122</td>\n",
       "      <td>5.0</td>\n",
       "    </tr>\n",
       "    <tr>\n",
       "      <th>130781</th>\n",
       "      <td>Arcade Fire</td>\n",
       "      <td>user_000143</td>\n",
       "      <td>6</td>\n",
       "      <td>5.0</td>\n",
       "    </tr>\n",
       "  </tbody>\n",
       "</table>\n",
       "</div>"
      ],
      "text/plain": [
       "            artname      user_id  count  rating_lineal\n",
       "226710         Enya  user_000260   1082            5.0\n",
       "823133    Pj Harvey  user_000914   1781            5.0\n",
       "334226    The Doors  user_000389    909            5.0\n",
       "678816        Ac/Dc  user_000761   1122            5.0\n",
       "130781  Arcade Fire  user_000143      6            5.0"
      ]
     },
     "execution_count": 15,
     "metadata": {},
     "output_type": "execute_result"
    }
   ],
   "source": [
    "# Validación de completitud\n",
    "print(df_agg1.shape[0], df_ratings.shape[0])\n",
    "df_ratings.sort_values('rating_lineal',ascending=False).head(5)"
   ]
  },
  {
   "cell_type": "code",
   "execution_count": 16,
   "metadata": {},
   "outputs": [],
   "source": [
    "def rating_global(x):\n",
    "    x = round(x)\n",
    "    if (x>=1 and x< 2 ):\n",
    "        return 1\n",
    "    else:\n",
    "        if (x>=2 and x<3):\n",
    "            return 2\n",
    "        else:\n",
    "            if (x>=3 and x<4):\n",
    "                return 3\n",
    "            else:\n",
    "                if (x>=4 and x< 5):\n",
    "                    return 4\n",
    "                else:\n",
    "                    if (x>=5):\n",
    "                        return 5"
   ]
  },
  {
   "cell_type": "code",
   "execution_count": 17,
   "metadata": {},
   "outputs": [],
   "source": [
    "# Aplicación de función\n",
    "df_ratings['rating_agregado'] = df_ratings.rating_lineal.apply(rating_global)\n",
    "# Agregación de resultados para mostrar gráfica\n",
    "df_ratings_final = df_ratings.groupby(['rating_agregado'])['count'].agg({'sum'})\n",
    "df_ratings_final = df_ratings_final.reset_index(level=[0])\n",
    "#df_ratings_final.plot.line(x='rating_agregado', y='sum', figsize=(10,10))"
   ]
  },
  {
   "cell_type": "markdown",
   "metadata": {},
   "source": [
    "# Una nueva Matriz de Ratings es construida con usuarios, nombres de artistas, año y mes que fue escuchada la canción. Se adicionan las variables mes y el año con el fin de segregar lo mayor posible información"
   ]
  },
  {
   "cell_type": "code",
   "execution_count": 18,
   "metadata": {},
   "outputs": [
    {
     "name": "stdout",
     "output_type": "stream",
     "text": [
      "19098862 19098862\n"
     ]
    }
   ],
   "source": [
    "df_agg2 = df_Userbehavior.groupby(['artname' , 'user_id', 'year', 'month'])['user_id'].agg({'count'})\n",
    "df_agg2 = df_agg2.reset_index(level=[0,1,2,3])\n",
    "print(df_agg2['count'].sum(), df_Userbehavior.shape[0])"
   ]
  },
  {
   "cell_type": "code",
   "execution_count": 19,
   "metadata": {},
   "outputs": [
    {
     "data": {
      "text/html": [
       "<div>\n",
       "<style scoped>\n",
       "    .dataframe tbody tr th:only-of-type {\n",
       "        vertical-align: middle;\n",
       "    }\n",
       "\n",
       "    .dataframe tbody tr th {\n",
       "        vertical-align: top;\n",
       "    }\n",
       "\n",
       "    .dataframe thead th {\n",
       "        text-align: right;\n",
       "    }\n",
       "</style>\n",
       "<table border=\"1\" class=\"dataframe\">\n",
       "  <thead>\n",
       "    <tr style=\"text-align: right;\">\n",
       "      <th></th>\n",
       "      <th>year</th>\n",
       "      <th>month</th>\n",
       "      <th>count</th>\n",
       "      <th>count_ln</th>\n",
       "    </tr>\n",
       "  </thead>\n",
       "  <tbody>\n",
       "    <tr>\n",
       "      <th>count</th>\n",
       "      <td>3.125721e+06</td>\n",
       "      <td>3.125721e+06</td>\n",
       "      <td>3.125721e+06</td>\n",
       "      <td>3.125721e+06</td>\n",
       "    </tr>\n",
       "    <tr>\n",
       "      <th>mean</th>\n",
       "      <td>2.007305e+03</td>\n",
       "      <td>6.321702e+00</td>\n",
       "      <td>6.110226e+00</td>\n",
       "      <td>3.772827e-01</td>\n",
       "    </tr>\n",
       "    <tr>\n",
       "      <th>std</th>\n",
       "      <td>1.106306e+00</td>\n",
       "      <td>3.528801e+00</td>\n",
       "      <td>2.339222e+01</td>\n",
       "      <td>4.771698e-01</td>\n",
       "    </tr>\n",
       "    <tr>\n",
       "      <th>min</th>\n",
       "      <td>2.005000e+03</td>\n",
       "      <td>1.000000e+00</td>\n",
       "      <td>1.000000e+00</td>\n",
       "      <td>0.000000e+00</td>\n",
       "    </tr>\n",
       "    <tr>\n",
       "      <th>25%</th>\n",
       "      <td>2.006000e+03</td>\n",
       "      <td>3.000000e+00</td>\n",
       "      <td>1.000000e+00</td>\n",
       "      <td>0.000000e+00</td>\n",
       "    </tr>\n",
       "    <tr>\n",
       "      <th>50%</th>\n",
       "      <td>2.007000e+03</td>\n",
       "      <td>6.000000e+00</td>\n",
       "      <td>2.000000e+00</td>\n",
       "      <td>3.010300e-01</td>\n",
       "    </tr>\n",
       "    <tr>\n",
       "      <th>75%</th>\n",
       "      <td>2.008000e+03</td>\n",
       "      <td>9.000000e+00</td>\n",
       "      <td>4.000000e+00</td>\n",
       "      <td>6.020600e-01</td>\n",
       "    </tr>\n",
       "    <tr>\n",
       "      <th>max</th>\n",
       "      <td>2.013000e+03</td>\n",
       "      <td>1.200000e+01</td>\n",
       "      <td>1.018800e+04</td>\n",
       "      <td>4.008089e+00</td>\n",
       "    </tr>\n",
       "  </tbody>\n",
       "</table>\n",
       "</div>"
      ],
      "text/plain": [
       "               year         month         count      count_ln\n",
       "count  3.125721e+06  3.125721e+06  3.125721e+06  3.125721e+06\n",
       "mean   2.007305e+03  6.321702e+00  6.110226e+00  3.772827e-01\n",
       "std    1.106306e+00  3.528801e+00  2.339222e+01  4.771698e-01\n",
       "min    2.005000e+03  1.000000e+00  1.000000e+00  0.000000e+00\n",
       "25%    2.006000e+03  3.000000e+00  1.000000e+00  0.000000e+00\n",
       "50%    2.007000e+03  6.000000e+00  2.000000e+00  3.010300e-01\n",
       "75%    2.008000e+03  9.000000e+00  4.000000e+00  6.020600e-01\n",
       "max    2.013000e+03  1.200000e+01  1.018800e+04  4.008089e+00"
      ]
     },
     "execution_count": 19,
     "metadata": {},
     "output_type": "execute_result"
    }
   ],
   "source": [
    "# Estandarización de variable de frecuencia con LN para disminuir la sensibilidad que podrucen los extremos en la muestra\n",
    "df_agg3 = df_agg2.copy()\n",
    "df_agg3['count_ln']= np.log10(df_agg3['count'])\n",
    "df_agg3.describe()"
   ]
  },
  {
   "cell_type": "code",
   "execution_count": 20,
   "metadata": {},
   "outputs": [],
   "source": [
    "for i in largo :\n",
    "    df_tmp1 = df_agg3[df_agg3.user_id==lista_users[i]]\n",
    "    df_tmp1['rating_lineal'] = scaler.fit_transform(df_tmp1[['count_ln']])\n",
    "    if i == 0:\n",
    "        df_ratings3 = df_tmp1.copy()\n",
    "    else:\n",
    "        df_ratings3 = df_ratings3.append(df_tmp1, ignore_index=True)"
   ]
  },
  {
   "cell_type": "code",
   "execution_count": 21,
   "metadata": {},
   "outputs": [],
   "source": [
    "df_ratings_final1 = df_ratings3.groupby(['artname', 'user_id']).agg({'count':'sum', 'rating_lineal':'median'})\n",
    "df_ratings_final1 = df_ratings_final1.reset_index(level=[0,1])\n",
    "# Aplicación de función\n",
    "df_ratings_final1['rating_agregado'] = df_ratings_final1.rating_lineal.apply(rating_global)\n",
    "\n",
    "# Agregación de resultados para mostrar gráfica\n",
    "df_ratings_fin1 = df_ratings_final1.groupby(['rating_agregado'])['count'].agg({'sum'})\n",
    "df_ratings_fin1 = df_ratings_fin1.reset_index(level=[0])"
   ]
  },
  {
   "cell_type": "markdown",
   "metadata": {},
   "source": [
    "# Construcción de matriz de ratings por usuario y artista con las caracteristicas de usuario, artista, año y mes"
   ]
  },
  {
   "cell_type": "code",
   "execution_count": 22,
   "metadata": {},
   "outputs": [],
   "source": [
    "resultArray = []\n",
    "lista_users = df_Userid.user_id.values\n",
    "for i in range(len(lista_users)) :\n",
    "    user = lista_users[i]\n",
    "    general = df_agg3[df_agg3.user_id == user].to_numpy()\n",
    "    lista_artistas = df_agg1[df_agg1['user_id']==user]['artname'].values \n",
    "    for j in range(len(lista_artistas)):\n",
    "        artista = lista_artistas[j]\n",
    "        usuarioartista = list(filter(lambda x: (x[0]==artista) ,general))  #Aquí se quito un filtro\n",
    "        usuarioartista = np.array(usuarioartista)\n",
    "        Normalizacion  = scaler.fit_transform(usuarioartista[:,[4]])\n",
    "        usuarioartista = np.append(usuarioartista, Normalizacion, axis=1)\n",
    "        resultArray.append(usuarioartista)"
   ]
  },
  {
   "cell_type": "code",
   "execution_count": 23,
   "metadata": {},
   "outputs": [],
   "source": [
    "# Conversión multitupla a Dataframe\n",
    "columnas = ['artname', 'user_id', 'year', 'month', 'count', 'count_ln', 'rating_lineal']\n",
    "df_ratings4 = pd.DataFrame(np.concatenate(resultArray), columns = columnas )\n",
    "df_ratings4.year=df_ratings4.year.astype('int64')\n",
    "df_ratings4.month=df_ratings4.month.astype('int64')\n",
    "df_ratings4['count']=df_ratings4['count'].astype('int64')\n",
    "df_ratings4.count_ln=df_ratings4.count_ln.astype('float64')\n",
    "df_ratings4.rating_lineal=df_ratings4.rating_lineal.astype('float64')"
   ]
  },
  {
   "cell_type": "code",
   "execution_count": 24,
   "metadata": {},
   "outputs": [],
   "source": [
    "df_ratings_final2 = df_ratings4.groupby(['artname', 'user_id']).agg({'count':'sum', 'rating_lineal':'median'})\n",
    "df_ratings_final2 = df_ratings_final2.reset_index(level=[0,1])\n",
    "# Aplicación de función\n",
    "df_ratings_final2['rating_agregado'] = df_ratings_final2.rating_lineal.apply(rating_global)\n",
    "# Agregación de resultados para mostrar gráfica\n",
    "df_ratings_fin2 = df_ratings_final2.groupby(['rating_agregado'])['count'].agg({'sum'})\n",
    "df_ratings_fin2 = df_ratings_fin2.reset_index(level=[0])"
   ]
  },
  {
   "cell_type": "code",
   "execution_count": 25,
   "metadata": {},
   "outputs": [
    {
     "data": {
      "text/html": [
       "<div>\n",
       "<style scoped>\n",
       "    .dataframe tbody tr th:only-of-type {\n",
       "        vertical-align: middle;\n",
       "    }\n",
       "\n",
       "    .dataframe tbody tr th {\n",
       "        vertical-align: top;\n",
       "    }\n",
       "\n",
       "    .dataframe thead th {\n",
       "        text-align: right;\n",
       "    }\n",
       "</style>\n",
       "<table border=\"1\" class=\"dataframe\">\n",
       "  <thead>\n",
       "    <tr style=\"text-align: right;\">\n",
       "      <th></th>\n",
       "      <th>rating_agregado</th>\n",
       "      <th>Test2</th>\n",
       "      <th>Test1</th>\n",
       "      <th>Test3</th>\n",
       "    </tr>\n",
       "  </thead>\n",
       "  <tbody>\n",
       "    <tr>\n",
       "      <th>0</th>\n",
       "      <td>1</td>\n",
       "      <td>3334511</td>\n",
       "      <td>9559440</td>\n",
       "      <td>10119640</td>\n",
       "    </tr>\n",
       "    <tr>\n",
       "      <th>1</th>\n",
       "      <td>2</td>\n",
       "      <td>7664467</td>\n",
       "      <td>5299939</td>\n",
       "      <td>6503756</td>\n",
       "    </tr>\n",
       "    <tr>\n",
       "      <th>2</th>\n",
       "      <td>3</td>\n",
       "      <td>6365314</td>\n",
       "      <td>1894419</td>\n",
       "      <td>2082665</td>\n",
       "    </tr>\n",
       "    <tr>\n",
       "      <th>3</th>\n",
       "      <td>4</td>\n",
       "      <td>1646963</td>\n",
       "      <td>932635</td>\n",
       "      <td>281677</td>\n",
       "    </tr>\n",
       "    <tr>\n",
       "      <th>4</th>\n",
       "      <td>5</td>\n",
       "      <td>87607</td>\n",
       "      <td>1412429</td>\n",
       "      <td>111124</td>\n",
       "    </tr>\n",
       "  </tbody>\n",
       "</table>\n",
       "</div>"
      ],
      "text/plain": [
       "   rating_agregado    Test2    Test1     Test3\n",
       "0                1  3334511  9559440  10119640\n",
       "1                2  7664467  5299939   6503756\n",
       "2                3  6365314  1894419   2082665\n",
       "3                4  1646963   932635    281677\n",
       "4                5    87607  1412429    111124"
      ]
     },
     "execution_count": 25,
     "metadata": {},
     "output_type": "execute_result"
    }
   ],
   "source": [
    "# Tabla de distribuciones\n",
    "df_estadisticas = df_ratings_fin1.merge(df_ratings_final[['rating_agregado', 'sum']], how='left', on = 'rating_agregado')\n",
    "df_estadisticas = df_estadisticas.merge(df_ratings_fin2[['rating_agregado', 'sum']], how='left', on = 'rating_agregado')\n",
    "df_estadisticas = df_estadisticas.rename(columns={\"sum_x\": \"Test2\", \"sum_y\": \"Test1\", \"sum\":\"Test3\"})\n",
    "df_estadisticas"
   ]
  },
  {
   "cell_type": "code",
   "execution_count": 26,
   "metadata": {},
   "outputs": [
    {
     "data": {
      "image/png": "[encoded data removed]",
      "text/plain": [
       "<Figure size 432x288 with 1 Axes>"
      ]
     },
     "metadata": {
      "needs_background": "light"
     },
     "output_type": "display_data"
    }
   ],
   "source": [
    "x_values1= df_ratings_final.rating_agregado.values\n",
    "y_values1= df_ratings_final['sum'].values\n",
    "\n",
    "x_values2=df_ratings_fin1.rating_agregado.values\n",
    "y_values2=df_ratings_fin1['sum'].values\n",
    "\n",
    "x_values3=df_ratings_fin2.rating_agregado.values\n",
    "y_values3=df_ratings_fin2['sum'].values\n",
    "\n",
    "plt.subplot(212)\n",
    "\n",
    "plt.plot(x_values1, y_values1, label=\"Normalización\")\n",
    "plt.plot(x_values2, y_values2,  label=\"Normalización con Logaritmo\")\n",
    "plt.plot(x_values3, y_values3,  label=\"Normalización con Logaritmo y desagregación artista\")\n",
    "\n",
    "plt.legend(bbox_to_anchor=(1.05, 1), loc='upper left', borderaxespad=0.)\n",
    "\n",
    "plt.show()"
   ]
  },
  {
   "cell_type": "markdown",
   "metadata": {},
   "source": [
    "#  Comparación de un rating para un usuario y un artista con las técnicas "
   ]
  },
  {
   "cell_type": "code",
   "execution_count": 28,
   "metadata": {},
   "outputs": [
    {
     "data": {
      "text/html": [
       "<div>\n",
       "<style scoped>\n",
       "    .dataframe tbody tr th:only-of-type {\n",
       "        vertical-align: middle;\n",
       "    }\n",
       "\n",
       "    .dataframe tbody tr th {\n",
       "        vertical-align: top;\n",
       "    }\n",
       "\n",
       "    .dataframe thead th {\n",
       "        text-align: right;\n",
       "    }\n",
       "</style>\n",
       "<table border=\"1\" class=\"dataframe\">\n",
       "  <thead>\n",
       "    <tr style=\"text-align: right;\">\n",
       "      <th></th>\n",
       "      <th>artname</th>\n",
       "      <th>user_id</th>\n",
       "      <th>count</th>\n",
       "      <th>rating_lineal</th>\n",
       "      <th>rating_agregado</th>\n",
       "    </tr>\n",
       "  </thead>\n",
       "  <tbody>\n",
       "    <tr>\n",
       "      <th>4</th>\n",
       "      <td>4Hero</td>\n",
       "      <td>user_000001</td>\n",
       "      <td>146</td>\n",
       "      <td>1.679157</td>\n",
       "      <td>2</td>\n",
       "    </tr>\n",
       "  </tbody>\n",
       "</table>\n",
       "</div>"
      ],
      "text/plain": [
       "  artname      user_id  count  rating_lineal  rating_agregado\n",
       "4   4Hero  user_000001    146       1.679157                2"
      ]
     },
     "execution_count": 28,
     "metadata": {},
     "output_type": "execute_result"
    }
   ],
   "source": [
    "df_ratings[(df_ratings.artname == '4Hero') & (df_ratings.user_id == 'user_000001')]"
   ]
  },
  {
   "cell_type": "code",
   "execution_count": 29,
   "metadata": {},
   "outputs": [
    {
     "data": {
      "text/html": [
       "<div>\n",
       "<style scoped>\n",
       "    .dataframe tbody tr th:only-of-type {\n",
       "        vertical-align: middle;\n",
       "    }\n",
       "\n",
       "    .dataframe tbody tr th {\n",
       "        vertical-align: top;\n",
       "    }\n",
       "\n",
       "    .dataframe thead th {\n",
       "        text-align: right;\n",
       "    }\n",
       "</style>\n",
       "<table border=\"1\" class=\"dataframe\">\n",
       "  <thead>\n",
       "    <tr style=\"text-align: right;\">\n",
       "      <th></th>\n",
       "      <th>artname</th>\n",
       "      <th>user_id</th>\n",
       "      <th>count</th>\n",
       "      <th>rating_lineal</th>\n",
       "      <th>rating_agregado</th>\n",
       "    </tr>\n",
       "  </thead>\n",
       "  <tbody>\n",
       "    <tr>\n",
       "      <th>5948</th>\n",
       "      <td>4Hero</td>\n",
       "      <td>user_000001</td>\n",
       "      <td>146</td>\n",
       "      <td>2.062899</td>\n",
       "      <td>2</td>\n",
       "    </tr>\n",
       "  </tbody>\n",
       "</table>\n",
       "</div>"
      ],
      "text/plain": [
       "     artname      user_id  count  rating_lineal  rating_agregado\n",
       "5948   4Hero  user_000001    146       2.062899                2"
      ]
     },
     "execution_count": 29,
     "metadata": {},
     "output_type": "execute_result"
    }
   ],
   "source": [
    "df_ratings_final1[(df_ratings_final1.artname == '4Hero') & (df_ratings_final1.user_id == 'user_000001')]"
   ]
  },
  {
   "cell_type": "code",
   "execution_count": 30,
   "metadata": {},
   "outputs": [
    {
     "data": {
      "text/html": [
       "<div>\n",
       "<style scoped>\n",
       "    .dataframe tbody tr th:only-of-type {\n",
       "        vertical-align: middle;\n",
       "    }\n",
       "\n",
       "    .dataframe tbody tr th {\n",
       "        vertical-align: top;\n",
       "    }\n",
       "\n",
       "    .dataframe thead th {\n",
       "        text-align: right;\n",
       "    }\n",
       "</style>\n",
       "<table border=\"1\" class=\"dataframe\">\n",
       "  <thead>\n",
       "    <tr style=\"text-align: right;\">\n",
       "      <th></th>\n",
       "      <th>artname</th>\n",
       "      <th>user_id</th>\n",
       "      <th>count</th>\n",
       "      <th>rating_lineal</th>\n",
       "      <th>rating_agregado</th>\n",
       "    </tr>\n",
       "  </thead>\n",
       "  <tbody>\n",
       "    <tr>\n",
       "      <th>5948</th>\n",
       "      <td>4Hero</td>\n",
       "      <td>user_000001</td>\n",
       "      <td>146</td>\n",
       "      <td>1.290909</td>\n",
       "      <td>1</td>\n",
       "    </tr>\n",
       "  </tbody>\n",
       "</table>\n",
       "</div>"
      ],
      "text/plain": [
       "     artname      user_id  count  rating_lineal  rating_agregado\n",
       "5948   4Hero  user_000001    146       1.290909                1"
      ]
     },
     "execution_count": 30,
     "metadata": {},
     "output_type": "execute_result"
    }
   ],
   "source": [
    "df_ratings_final2[(df_ratings_final2.artname == '4Hero') & (df_ratings_final2.user_id == 'user_000001')]"
   ]
  },
  {
   "cell_type": "markdown",
   "metadata": {},
   "source": [
    "# Gráfica Long Tail"
   ]
  },
  {
   "cell_type": "code",
   "execution_count": 31,
   "metadata": {},
   "outputs": [],
   "source": [
    "df_longtail = df_agg1.groupby(['artname'])['count'].agg({'count'}).reset_index()\n",
    "df_longtail = df_longtail.sort_values('count', ascending = False)"
   ]
  },
  {
   "cell_type": "code",
   "execution_count": 32,
   "metadata": {},
   "outputs": [
    {
     "data": {
      "text/plain": [
       "[<matplotlib.lines.Line2D at 0xdcb29a5908>]"
      ]
     },
     "execution_count": 32,
     "metadata": {},
     "output_type": "execute_result"
    },
    {
     "data": {
      "image/png": "[encoded data removed]",
      "text/plain": [
       "<Figure size 432x288 with 1 Axes>"
      ]
     },
     "metadata": {
      "needs_background": "light"
     },
     "output_type": "display_data"
    }
   ],
   "source": [
    "plt.plot(list(range(len(df_longtail['count']))), df_longtail[\"count\"])"
   ]
  },
  {
   "cell_type": "markdown",
   "metadata": {},
   "source": [
    "# Creación de tablas maestras de usuarios y artistas con dataset de ratings seleccionado"
   ]
  },
  {
   "cell_type": "code",
   "execution_count": 27,
   "metadata": {},
   "outputs": [
    {
     "name": "stdout",
     "output_type": "stream",
     "text": [
      "173923\n",
      "992\n"
     ]
    }
   ],
   "source": [
    "#Valores únicos por artista y usuario\n",
    "print(df_ratings_final1.artname.nunique())\n",
    "print(df_ratings_final1.user_id.nunique())"
   ]
  },
  {
   "cell_type": "code",
   "execution_count": 33,
   "metadata": {},
   "outputs": [
    {
     "name": "stdout",
     "output_type": "stream",
     "text": [
      "173923\n",
      "992\n"
     ]
    }
   ],
   "source": [
    "#Conversión en valor id a los usuarios y artistas\n",
    "df_ratings_modif = df_ratings_final1\n",
    "artistas = df_ratings_modif[['artname']].drop_duplicates()\n",
    "users = df_ratings_modif[['user_id']].drop_duplicates()\n",
    "artistas.insert(0, 'New_ID_A', range(0, len(artistas)))\n",
    "users.insert(0, 'New_ID', range(0, len(users)))\n",
    "df_ratings_modif = df_ratings_modif.merge(users[['user_id', 'New_ID']], how='left', left_on = 'user_id', right_on = 'user_id')\n",
    "df_ratings_modif = df_ratings_modif.merge(artistas[['artname', 'New_ID_A']], how='left', left_on = 'artname', right_on = 'artname')\n",
    "#df_ratings_modificado = df_ratings_modif[['New_ID', 'New_ID_A', 'rating_lineal']]\n",
    "#df_ratings_modificado.columns = ['user_id', 'artname', 'rating_lineal']\n",
    "\n",
    "# Verficación de claves generadas\n",
    "\n",
    "print(df_ratings_modif.artname.nunique())\n",
    "print(df_ratings_modif.user_id.nunique())"
   ]
  },
  {
   "cell_type": "markdown",
   "metadata": {},
   "source": [
    "#  Exportación archivo de ratings con claves numericas en usuario y artista "
   ]
  },
  {
   "cell_type": "code",
   "execution_count": 59,
   "metadata": {},
   "outputs": [],
   "source": [
    "# Creación Tablas Maestras\n",
    "df_users_id = df_ratings_modif[['user_id','New_ID']].drop_duplicates()\n",
    "df_users_id.columns = ['user_id', 'new_user_id']\n",
    "\n",
    "df_artists_id = df_ratings_modif[['artname','New_ID_A']].drop_duplicates()\n",
    "df_artists_id.columns = ['artname', 'new_artist_id']\n",
    "\n",
    "# Exportación tablas maestras\n",
    "df_users_id.to_pickle(PathMaestras+\"Maestra_Usuarios.pkl\")\n",
    "df_artists_id.to_pickle(PathMaestras+\"Maestra_Artistas.pkl\")\n"
   ]
  },
  {
   "cell_type": "code",
   "execution_count": 60,
   "metadata": {},
   "outputs": [],
   "source": [
    "# Matriz de utilidad para modelo Usuario - Usuario\n",
    "df_ratings_modif1 = df_ratings_modif[['New_ID', 'New_ID_A','rating_lineal']]\n",
    "df_ratings_modif1.columns = ['user_id', 'artname', 'rating_lineal']\n",
    "df_ratings_modif1.to_pickle(PathUser+\"Ratings_Normalizacion_Log.pkl\")\n",
    "\n",
    "# Exportación de resultados de ratings\n",
    "#df_ratings[['artname', 'user_id', 'rating_lineal']].to_pickle(\"./Ratings_Normalizacion.pkl\")\n",
    "#df_ratings_final1[['artname', 'user_id', 'rating_lineal']].to_pickle(\"./Ratings_Normalizacion_Log.pkl\")\n",
    "#df_ratings_final2[['artname', 'user_id', 'rating_lineal']].to_pickle(\"./Ratings_Normalizacion_Log_Desagregado.pkl\")"
   ]
  },
  {
   "cell_type": "code",
   "execution_count": 62,
   "metadata": {},
   "outputs": [],
   "source": [
    "# Matriz de Utilidad para modelo Item - Item \n",
    "    # Ratings con variable de cantidad de interacciones\n",
    "df_ratings_modif_item = df_ratings_modif[['New_ID', 'New_ID_A', 'count','rating_lineal']]\n",
    "df_ratings_modif_item.columns = ['user_id', 'artname', 'count','rating_lineal']\n",
    "f = gzip.open(PathItem + '0.Ratings_Completos.pklz','wb')\n",
    "pickle.dump(df_ratings_modif_item,f)\n",
    "f.close()\n",
    "\n",
    "# Reducción de tamaño de matriz para procesamiento\n",
    "df_ratings_modif_item_final = df_ratings_modif_item.loc[df_ratings_modif_item['count'] >= 7,['user_id', 'artname', 'rating_lineal']]\n",
    "df_ratings_modif_item_final.to_pickle(PathItem +\"1.Ratings_Normalizacion_Log.pkl\")"
   ]
  }
 ],
 "metadata": {
  "kernelspec": {
   "display_name": "Python 3",
   "language": "python",
   "name": "python3"
  },
  "language_info": {
   "codemirror_mode": {
    "name": "ipython",
    "version": 3
   },
   "file_extension": ".py",
   "mimetype": "text/x-python",
   "name": "python",
   "nbconvert_exporter": "python",
   "pygments_lexer": "ipython3",
   "version": "3.7.1"
  }
 },
 "nbformat": 4,
 "nbformat_minor": 2
}
