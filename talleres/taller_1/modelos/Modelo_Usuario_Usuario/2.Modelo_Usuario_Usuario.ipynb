{
 "cells": [
  {
   "cell_type": "markdown",
   "metadata": {},
   "source": [
    "# Modelo Usuario - Usuario con mejores parametros"
   ]
  },
  {
   "cell_type": "code",
   "execution_count": 5,
   "metadata": {
    "ExecuteTime": {
     "end_time": "2020-03-11T11:32:53.046496Z",
     "start_time": "2020-03-11T11:32:52.901773Z"
    }
   },
   "outputs": [],
   "source": [
    "import numpy as np\n",
    "import pandas as pd\n",
    "import time\n",
    "from surprise import Reader\n",
    "from surprise import Dataset\n",
    "from surprise.model_selection import train_test_split\n",
    "from surprise import KNNBasic\n",
    "from surprise import accuracy\n",
    "import pickle\n",
    "import warnings\n",
    "import gzip\n",
    "warnings.filterwarnings(\"ignore\")"
   ]
  },
  {
   "cell_type": "markdown",
   "metadata": {},
   "source": [
    "# Carga Matriz Ratings"
   ]
  },
  {
   "cell_type": "code",
   "execution_count": 2,
   "metadata": {},
   "outputs": [
    {
     "name": "stdout",
     "output_type": "stream",
     "text": [
      "D:\\Dataset_1\\lastfm-dataset-1K\\Modelo_Usuario_Usuario\n"
     ]
    },
    {
     "data": {
      "text/html": [
       "<div>\n",
       "<style scoped>\n",
       "    .dataframe tbody tr th:only-of-type {\n",
       "        vertical-align: middle;\n",
       "    }\n",
       "\n",
       "    .dataframe tbody tr th {\n",
       "        vertical-align: top;\n",
       "    }\n",
       "\n",
       "    .dataframe thead th {\n",
       "        text-align: right;\n",
       "    }\n",
       "</style>\n",
       "<table border=\"1\" class=\"dataframe\">\n",
       "  <thead>\n",
       "    <tr style=\"text-align: right;\">\n",
       "      <th></th>\n",
       "      <th>user_id</th>\n",
       "      <th>artname</th>\n",
       "      <th>rating_lineal</th>\n",
       "    </tr>\n",
       "  </thead>\n",
       "  <tbody>\n",
       "    <tr>\n",
       "      <th>0</th>\n",
       "      <td>0</td>\n",
       "      <td>0</td>\n",
       "      <td>1</td>\n",
       "    </tr>\n",
       "    <tr>\n",
       "      <th>1</th>\n",
       "      <td>1</td>\n",
       "      <td>1</td>\n",
       "      <td>1</td>\n",
       "    </tr>\n",
       "    <tr>\n",
       "      <th>2</th>\n",
       "      <td>2</td>\n",
       "      <td>2</td>\n",
       "      <td>1</td>\n",
       "    </tr>\n",
       "    <tr>\n",
       "      <th>3</th>\n",
       "      <td>3</td>\n",
       "      <td>3</td>\n",
       "      <td>1</td>\n",
       "    </tr>\n",
       "    <tr>\n",
       "      <th>4</th>\n",
       "      <td>3</td>\n",
       "      <td>4</td>\n",
       "      <td>1</td>\n",
       "    </tr>\n",
       "  </tbody>\n",
       "</table>\n",
       "</div>"
      ],
      "text/plain": [
       "   user_id  artname  rating_lineal\n",
       "0        0        0              1\n",
       "1        1        1              1\n",
       "2        2        2              1\n",
       "3        3        3              1\n",
       "4        3        4              1"
      ]
     },
     "execution_count": 2,
     "metadata": {},
     "output_type": "execute_result"
    }
   ],
   "source": [
    "%cd D:/Dataset_1/lastfm-dataset-1K/\\Modelo_Usuario_Usuario\n",
    "#Carga Dataframe Ratings\n",
    "df_ratings = pd.read_pickle(\"1.Ratings_Normalizacion_Log.pkl\")\n",
    "df_ratings.rating_lineal = round(df_ratings.rating_lineal)\n",
    "df_ratings['rating_lineal'] = df_ratings['rating_lineal'].astype('uint8')\n",
    "df_ratings.head(5)"
   ]
  },
  {
   "cell_type": "markdown",
   "metadata": {},
   "source": [
    "# Carga de resultados de evaluación previamente obtenidos"
   ]
  },
  {
   "cell_type": "code",
   "execution_count": 3,
   "metadata": {},
   "outputs": [],
   "source": [
    "df_resultados_usuario = pd.read_pickle(\"1.Evaluacion_Cos_Pearson_ModeloUser.pkl\")\n",
    "#Obtención de mejores parametros para el modelo\n",
    "df_best_params = df_resultados_usuario.sort_values('RMSE', ascending = True).head(1)\n",
    "best_k = df_best_params['Tamanio_Vecindario'].values[0]\n",
    "Umbral = df_best_params['Umbral_Similitud'].values[0]\n",
    "Medida = df_best_params['Indice'].values[0]"
   ]
  },
  {
   "cell_type": "code",
   "execution_count": 4,
   "metadata": {},
   "outputs": [
    {
     "data": {
      "text/html": [
       "<div>\n",
       "<style scoped>\n",
       "    .dataframe tbody tr th:only-of-type {\n",
       "        vertical-align: middle;\n",
       "    }\n",
       "\n",
       "    .dataframe tbody tr th {\n",
       "        vertical-align: top;\n",
       "    }\n",
       "\n",
       "    .dataframe thead th {\n",
       "        text-align: right;\n",
       "    }\n",
       "</style>\n",
       "<table border=\"1\" class=\"dataframe\">\n",
       "  <thead>\n",
       "    <tr style=\"text-align: right;\">\n",
       "      <th></th>\n",
       "      <th>Tamanio_Vecindario</th>\n",
       "      <th>Umbral_Similitud</th>\n",
       "      <th>Indice</th>\n",
       "      <th>Inicio_seg</th>\n",
       "      <th>Fin_seg</th>\n",
       "      <th>RMSE</th>\n",
       "    </tr>\n",
       "  </thead>\n",
       "  <tbody>\n",
       "    <tr>\n",
       "      <th>67</th>\n",
       "      <td>34</td>\n",
       "      <td>0.7</td>\n",
       "      <td>cosine</td>\n",
       "      <td>348695.95547</td>\n",
       "      <td>348726.868778</td>\n",
       "      <td>0.621152</td>\n",
       "    </tr>\n",
       "  </tbody>\n",
       "</table>\n",
       "</div>"
      ],
      "text/plain": [
       "    Tamanio_Vecindario  Umbral_Similitud  Indice    Inicio_seg        Fin_seg  \\\n",
       "67                  34               0.7  cosine  348695.95547  348726.868778   \n",
       "\n",
       "        RMSE  \n",
       "67  0.621152  "
      ]
     },
     "execution_count": 4,
     "metadata": {},
     "output_type": "execute_result"
    }
   ],
   "source": [
    "df_best_params"
   ]
  },
  {
   "cell_type": "markdown",
   "metadata": {},
   "source": [
    "# Aplicación del modelo"
   ]
  },
  {
   "cell_type": "code",
   "execution_count": 5,
   "metadata": {},
   "outputs": [
    {
     "name": "stdout",
     "output_type": "stream",
     "text": [
      "Computing the cosine similarity matrix...\n",
      "Done computing similarity matrix.\n",
      "RMSE: 0.6262\n"
     ]
    },
    {
     "data": {
      "text/plain": [
       "0.6262033240114787"
      ]
     },
     "execution_count": 5,
     "metadata": {},
     "output_type": "execute_result"
    }
   ],
   "source": [
    "reader = Reader( rating_scale = ( 1, 5 ) )\n",
    "dataset_ratings = Dataset.load_from_df( df_ratings[ [ 'user_id', 'artname', 'rating_lineal']], reader )\n",
    "# Particionamiento de Dataframe 80% entrenamiento y 20% Validación\n",
    "train_set, test_set=  train_test_split(dataset_ratings, test_size=.2)\n",
    "# Configuración de parametros\n",
    "sim_options = {'name': Medida,'user_based': True , 'min_support': Umbral}\n",
    "model = KNNBasic(k=best_k, min_k=2, sim_options=sim_options)\n",
    "\n",
    "#Se le pasa la matriz de utilidad al algoritmo, es decir, el conjunto de entrenamiento\n",
    "model.fit(trainset=train_set)\n",
    "\n",
    "# Cálculo de predicción para todos los items del conjunto de validación\n",
    "test_predictions=model.test(test_set)\n",
    "\n",
    "#df_predictions = pd.DataFrame.from_records(list(map(lambda x: (x.uid, x.iid, x.est) , test_predictions)), columns=labels)\n",
    "accuracy.rmse( test_predictions, verbose = True )"
   ]
  },
  {
   "cell_type": "code",
   "execution_count": 15,
   "metadata": {},
   "outputs": [],
   "source": [
    "# Dataset de validación \n",
    "df_validacion = pd.DataFrame(test_set, columns = [\"user_id\", \"artname\", \"rating\"])\n",
    "df_validacion.to_pickle(\"2.Datos_Validacion_ModeloUsuario\")"
   ]
  },
  {
   "cell_type": "markdown",
   "metadata": {},
   "source": [
    "# Exportación Modelo"
   ]
  },
  {
   "cell_type": "code",
   "execution_count": 16,
   "metadata": {},
   "outputs": [],
   "source": [
    "f = gzip.open('3.Model_User_User.pklz','wb')\n",
    "pickle.dump(model,f)\n",
    "f.close()"
   ]
  },
  {
   "cell_type": "markdown",
   "metadata": {},
   "source": [
    "# Prueba Importación y predicción con parametros"
   ]
  },
  {
   "cell_type": "code",
   "execution_count": 6,
   "metadata": {
    "ExecuteTime": {
     "end_time": "2020-03-11T11:32:57.007272Z",
     "start_time": "2020-03-11T11:32:56.262447Z"
    }
   },
   "outputs": [
    {
     "data": {
      "text/plain": [
       "Prediction(uid=8, iid=2843, r_ui=None, est=1.297720247022143, details={'actual_k': 34, 'was_impossible': False})"
      ]
     },
     "execution_count": 6,
     "metadata": {},
     "output_type": "execute_result"
    }
   ],
   "source": [
    "#restore the object\n",
    "f = gzip.open('3.Model_User_User.pklz','rb')\n",
    "Model_UU = pickle.load(f)\n",
    "result = Model_UU.predict(8, 2843)\n",
    "f.close()\n",
    "result"
   ]
  },
  {
   "cell_type": "code",
   "execution_count": 8,
   "metadata": {
    "ExecuteTime": {
     "end_time": "2020-03-11T15:13:30.669699Z",
     "start_time": "2020-03-11T15:13:30.659342Z"
    }
   },
   "outputs": [
    {
     "data": {
      "text/plain": [
       "1.297720247022143"
      ]
     },
     "execution_count": 8,
     "metadata": {},
     "output_type": "execute_result"
    }
   ],
   "source": [
    "result.est"
   ]
  },
  {
   "cell_type": "code",
   "execution_count": 10,
   "metadata": {
    "ExecuteTime": {
     "end_time": "2020-03-11T15:52:04.342024Z",
     "start_time": "2020-03-11T15:52:04.323795Z"
    }
   },
   "outputs": [
    {
     "data": {
      "text/plain": [
       "[512, 605, 669, 677]"
      ]
     },
     "execution_count": 10,
     "metadata": {},
     "output_type": "execute_result"
    }
   ],
   "source": [
    "Model_UU.get_neighbors(9, 4)"
   ]
  },
  {
   "cell_type": "code",
   "execution_count": null,
   "metadata": {},
   "outputs": [],
   "source": []
  }
 ],
 "metadata": {
  "hide_input": false,
  "kernelspec": {
   "display_name": "Python 3",
   "language": "python",
   "name": "python3"
  },
  "language_info": {
   "codemirror_mode": {
    "name": "ipython",
    "version": 3
   },
   "file_extension": ".py",
   "mimetype": "text/x-python",
   "name": "python",
   "nbconvert_exporter": "python",
   "pygments_lexer": "ipython3",
   "version": "3.6.8"
  },
  "toc": {
   "base_numbering": 1,
   "nav_menu": {},
   "number_sections": true,
   "sideBar": true,
   "skip_h1_title": false,
   "title_cell": "Table of Contents",
   "title_sidebar": "Contents",
   "toc_cell": false,
   "toc_position": {},
   "toc_section_display": true,
   "toc_window_display": false
  },
  "varInspector": {
   "cols": {
    "lenName": 16,
    "lenType": 16,
    "lenVar": 40
   },
   "kernels_config": {
    "python": {
     "delete_cmd_postfix": "",
     "delete_cmd_prefix": "del ",
     "library": "var_list.py",
     "varRefreshCmd": "print(var_dic_list())"
    },
    "r": {
     "delete_cmd_postfix": ") ",
     "delete_cmd_prefix": "rm(",
     "library": "var_list.r",
     "varRefreshCmd": "cat(var_dic_list()) "
    }
   },
   "types_to_exclude": [
    "module",
    "function",
    "builtin_function_or_method",
    "instance",
    "_Feature"
   ],
   "window_display": false
  }
 },
 "nbformat": 4,
 "nbformat_minor": 4
}
