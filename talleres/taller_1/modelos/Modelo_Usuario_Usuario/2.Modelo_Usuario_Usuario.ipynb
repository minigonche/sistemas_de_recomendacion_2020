{
 "cells": [
  {
   "cell_type": "markdown",
   "metadata": {},
   "source": [
    "# Modelo Usuario - Usuario con mejores parametros"
   ]
  },
  {
   "cell_type": "code",
   "execution_count": 51,
   "metadata": {},
   "outputs": [],
   "source": [
    "import numpy as np\n",
    "import pandas as pd\n",
    "import time\n",
    "from surprise import Reader\n",
    "from surprise import Dataset\n",
    "from surprise.model_selection import train_test_split\n",
    "from surprise import KNNBasic\n",
    "from surprise import accuracy\n",
    "import pickle\n",
    "import warnings\n",
    "warnings.filterwarnings(\"ignore\")"
   ]
  },
  {
   "cell_type": "markdown",
   "metadata": {},
   "source": [
    "# Carga Matriz Ratings"
   ]
  },
  {
   "cell_type": "code",
   "execution_count": 29,
   "metadata": {},
   "outputs": [
    {
     "name": "stdout",
     "output_type": "stream",
     "text": [
      "D:\\Dataset_1\\lastfm-dataset-1K\\Modelo_Usuario_Usuario\n"
     ]
    },
    {
     "data": {
      "text/html": [
       "<div>\n",
       "<style scoped>\n",
       "    .dataframe tbody tr th:only-of-type {\n",
       "        vertical-align: middle;\n",
       "    }\n",
       "\n",
       "    .dataframe tbody tr th {\n",
       "        vertical-align: top;\n",
       "    }\n",
       "\n",
       "    .dataframe thead th {\n",
       "        text-align: right;\n",
       "    }\n",
       "</style>\n",
       "<table border=\"1\" class=\"dataframe\">\n",
       "  <thead>\n",
       "    <tr style=\"text-align: right;\">\n",
       "      <th></th>\n",
       "      <th>user_id</th>\n",
       "      <th>artname</th>\n",
       "      <th>rating_lineal</th>\n",
       "    </tr>\n",
       "  </thead>\n",
       "  <tbody>\n",
       "    <tr>\n",
       "      <th>0</th>\n",
       "      <td>0</td>\n",
       "      <td>0</td>\n",
       "      <td>1</td>\n",
       "    </tr>\n",
       "    <tr>\n",
       "      <th>1</th>\n",
       "      <td>1</td>\n",
       "      <td>1</td>\n",
       "      <td>1</td>\n",
       "    </tr>\n",
       "    <tr>\n",
       "      <th>2</th>\n",
       "      <td>2</td>\n",
       "      <td>2</td>\n",
       "      <td>1</td>\n",
       "    </tr>\n",
       "    <tr>\n",
       "      <th>3</th>\n",
       "      <td>3</td>\n",
       "      <td>3</td>\n",
       "      <td>1</td>\n",
       "    </tr>\n",
       "    <tr>\n",
       "      <th>4</th>\n",
       "      <td>3</td>\n",
       "      <td>4</td>\n",
       "      <td>1</td>\n",
       "    </tr>\n",
       "  </tbody>\n",
       "</table>\n",
       "</div>"
      ],
      "text/plain": [
       "   user_id  artname  rating_lineal\n",
       "0        0        0              1\n",
       "1        1        1              1\n",
       "2        2        2              1\n",
       "3        3        3              1\n",
       "4        3        4              1"
      ]
     },
     "execution_count": 29,
     "metadata": {},
     "output_type": "execute_result"
    }
   ],
   "source": [
    "%cd D:/Dataset_1/lastfm-dataset-1K/\\Modelo_Usuario_Usuario\n",
    "#Carga Dataframe Ratings\n",
    "df_ratings = pd.read_pickle(\"Ratings_Normalizacion_Log.pkl\")\n",
    "df_ratings.rating_lineal = round(df_ratings.rating_lineal)\n",
    "df_ratings['rating_lineal'] = df_ratings['rating_lineal'].astype('uint8')\n",
    "df_ratings.head(5)"
   ]
  },
  {
   "cell_type": "markdown",
   "metadata": {},
   "source": [
    "# Carga de resultados de evaluación previamente obtenidos"
   ]
  },
  {
   "cell_type": "code",
   "execution_count": 7,
   "metadata": {},
   "outputs": [],
   "source": [
    "df_resultados_usuario = pd.read_pickle(\"Evaluacion_Cos_Pearson_ModeloUser.pkl\")\n",
    "#Obtención de mejores parametros para el modelo\n",
    "df_best_params = df_resultados_usuario.sort_values('RMSE', ascending = True).head(1)\n",
    "best_k = df_best_params['Tamanio_Vecindario'].values[0]\n",
    "Umbral = df_best_params['Umbral_Similitud'].values[0]\n",
    "Medida = df_best_params['Indice'].values[0]"
   ]
  },
  {
   "cell_type": "markdown",
   "metadata": {},
   "source": [
    "# Aplicación del modelo"
   ]
  },
  {
   "cell_type": "code",
   "execution_count": 30,
   "metadata": {},
   "outputs": [
    {
     "name": "stdout",
     "output_type": "stream",
     "text": [
      "Computing the cosine similarity matrix...\n",
      "Done computing similarity matrix.\n",
      "RMSE: 0.6260\n"
     ]
    },
    {
     "data": {
      "text/plain": [
       "0.6259839906510922"
      ]
     },
     "execution_count": 30,
     "metadata": {},
     "output_type": "execute_result"
    }
   ],
   "source": [
    "reader = Reader( rating_scale = ( 1, 5 ) )\n",
    "dataset_ratings = Dataset.load_from_df( df_ratings[ [ 'user_id', 'artname', 'rating_lineal']], reader )\n",
    "# Particionamiento de Dataframe 80% entrenamiento y 20% Validación\n",
    "train_set, test_set=  train_test_split(dataset_ratings, test_size=.2)\n",
    "# Configuración de parametros\n",
    "sim_options = {'name': Medida,'user_based': True , 'min_support': Umbral}\n",
    "model = KNNBasic(k=best_k, min_k=2, sim_options=sim_options)\n",
    "\n",
    "#Se le pasa la matriz de utilidad al algoritmo, es decir, el conjunto de entrenamiento\n",
    "model.fit(trainset=train_set)\n",
    "\n",
    "# Cálculo de predicción para todos los items del conjunto de validación\n",
    "test_predictions=model.test(test_set)\n",
    "\n",
    "#df_predictions = pd.DataFrame.from_records(list(map(lambda x: (x.uid, x.iid, x.est) , test_predictions)), columns=labels)\n",
    "accuracy.rmse( test_predictions, verbose = True )"
   ]
  },
  {
   "cell_type": "markdown",
   "metadata": {},
   "source": [
    "# Exportación Modelo"
   ]
  },
  {
   "cell_type": "code",
   "execution_count": 62,
   "metadata": {},
   "outputs": [],
   "source": [
    "filename = 'Model_User_User.pkl'\n",
    "pickle.dump(model, open(filename, 'wb'))"
   ]
  },
  {
   "cell_type": "markdown",
   "metadata": {},
   "source": [
    "# Prueba Importación y predicción con parametros"
   ]
  },
  {
   "cell_type": "code",
   "execution_count": 68,
   "metadata": {},
   "outputs": [
    {
     "name": "stdout",
     "output_type": "stream",
     "text": [
      "user: 8          item: 2843       r_ui = None   est = 1.42   {'actual_k': 24, 'was_impossible': False}\n"
     ]
    }
   ],
   "source": [
    "loaded_model = pickle.load(open(filename, 'rb'))\n",
    "result = loaded_model.predict(8, 2843)\n",
    "print(result)"
   ]
  }
 ],
 "metadata": {
  "kernelspec": {
   "display_name": "Python 3",
   "language": "python",
   "name": "python3"
  },
  "language_info": {
   "codemirror_mode": {
    "name": "ipython",
    "version": 3
   },
   "file_extension": ".py",
   "mimetype": "text/x-python",
   "name": "python",
   "nbconvert_exporter": "python",
   "pygments_lexer": "ipython3",
   "version": "3.7.1"
  }
 },
 "nbformat": 4,
 "nbformat_minor": 4
}
