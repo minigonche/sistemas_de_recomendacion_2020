{
 "cells": [
  {
   "cell_type": "markdown",
   "metadata": {},
   "source": [
    "# Evaluación de rendimiento Modelos Usuario e Item "
   ]
  },
  {
   "cell_type": "code",
   "execution_count": 1,
   "metadata": {},
   "outputs": [],
   "source": [
    "import numpy as np\n",
    "import pandas as pd\n",
    "import time\n",
    "from surprise import Reader\n",
    "from surprise import Dataset\n",
    "from surprise.model_selection import train_test_split\n",
    "from surprise import KNNBasic\n",
    "from surprise import accuracy\n",
    "import warnings\n",
    "warnings.filterwarnings(\"ignore\")"
   ]
  },
  {
   "cell_type": "code",
   "execution_count": 2,
   "metadata": {},
   "outputs": [],
   "source": [
    "PathUser = \"D:/Dataset_1/lastfm-dataset-1K/Modelo_Usuario_Usuario/\"\n",
    "PathItem = \"D:/Dataset_1/lastfm-dataset-1K/Modelo_Item_Item/\""
   ]
  },
  {
   "cell_type": "code",
   "execution_count": 3,
   "metadata": {},
   "outputs": [],
   "source": [
    "df_ratings_user =  pd.read_pickle(PathUser + \"1.Ratings_Normalizacion_Log.pkl\")\n",
    "df_ratings_user.rating_lineal = round(df_ratings_user.rating_lineal).astype('uint8')\n",
    "\n",
    "# Este dataframe es generado desde el script del modelo item-item y tiene reducción en artistas \n",
    "df_ratings_items =  pd.read_pickle(PathItem + \"1.Ratings_Normalizacion_Log.pkl\")\n",
    "df_ratings_items.rating_lineal = round(df_ratings_items.rating_lineal).astype('uint8')"
   ]
  },
  {
   "cell_type": "code",
   "execution_count": 4,
   "metadata": {},
   "outputs": [],
   "source": [
    "# Función del modelo \n",
    "def modelSR_User_Eval(df, medida_similitud,k,umbrals, Flagmodel): \n",
    "        reader = Reader( rating_scale = ( 1, 5 ))\n",
    "        #Se crea el dataset a partir del dataframe\n",
    "        dataset_ratings = Dataset.load_from_df( df[ [ 'user_id', 'artname', 'rating_lineal']], reader )\n",
    "        #Particionamiento de Datframe en 80% entrenamiento y 20% validación\n",
    "        train_set, test_set=  train_test_split(dataset_ratings, test_size=.2)\n",
    "        # se crea un modelo knnbasic item-item con similitud coseno \n",
    "        sim_options = {'name': medida_similitud,'user_based': Flagmodel , 'min_support': umbrals}\n",
    "        model = KNNBasic(k=k, min_k=2, sim_options=sim_options)\n",
    "        #Se le pasa la matriz de utilidad al algoritmo, es decir, el conjunto de entrenamiento\n",
    "        model.fit(trainset=train_set)\n",
    "        # Cálculo de predicción para todos los items del conjunto de validación\n",
    "        test_predictions=model.test(test_set)\n",
    "        #labels = ['user_id', 'artname', 'estimation']\n",
    "        #df_predictions = pd.DataFrame.from_records(list(map(lambda x: (x.uid, x.iid, x.est) , test_predictions)), columns=labels)\n",
    "        metrica = accuracy.rmse( test_predictions, verbose = True )\n",
    "        #print(accuracy.rmse( test_predictions, verbose = True ))\n",
    "        return metrica"
   ]
  },
  {
   "cell_type": "markdown",
   "metadata": {},
   "source": [
    "# Evaluación Hiperparametros Modelo Usuario - Usuario"
   ]
  },
  {
   "cell_type": "code",
   "execution_count": null,
   "metadata": {},
   "outputs": [
    {
     "name": "stdout",
     "output_type": "stream",
     "text": [
      "Computing the jaccard similarity matrix...\n",
      "Done computing similarity matrix.\n",
      "RMSE: 0.6894\n",
      "Computing the jaccard similarity matrix...\n",
      "Done computing similarity matrix.\n"
     ]
    }
   ],
   "source": [
    "# Entonación de hyperparams tamaño de vecindario y umbral de simulitud modelo usuario - usuario\n",
    "medidas = ['cosine', 'pearson', 'jaccard']\n",
    "umbrales = [0.4,0.5, 0.6,0.7]\n",
    "lista = [i*2 for i in range(1, 20)]\n",
    "result = []\n",
    "\n",
    "for h in medidas:\n",
    "    for i in lista:\n",
    "        for j in umbrales:\n",
    "            start_time = time.clock()\n",
    "            valor = modelSR_User_Eval(df_ratings_user, h, i, j, True)\n",
    "            end_time = time.clock()\n",
    "            result.append([i, j, h, start_time, end_time,  valor])\n",
    "            df_evaluacion0 = pd.DataFrame(result, columns = [\"Tamanio_Vecindario\", \"Umbral_Similitud\", \"Indice\", \"Inicio_seg\", \"Fin_seg\", \"RMSE\"])\n",
    "\n",
    "df_evaluacion0.to_pickle(PathUser+\"1.Evaluacion_jaccard_ModeloUser.pkl\")"
   ]
  },
  {
   "cell_type": "markdown",
   "metadata": {},
   "source": [
    "# Evaluación Hiperparametros Modelo Item - Item\n",
    "\n",
    "La ejecución de esta evaluación toma alrededor de 4 - 5 días dependiendo del hardware"
   ]
  },
  {
   "cell_type": "code",
   "execution_count": 37,
   "metadata": {
    "scrolled": true
   },
   "outputs": [
    {
     "name": "stdout",
     "output_type": "stream",
     "text": [
      "Computing the cosine similarity matrix...\n",
      "Done computing similarity matrix.\n",
      "RMSE: 0.7273\n",
      "Computing the cosine similarity matrix...\n",
      "Done computing similarity matrix.\n",
      "RMSE: 0.7305\n",
      "Computing the cosine similarity matrix...\n",
      "Done computing similarity matrix.\n",
      "RMSE: 0.7318\n",
      "Computing the cosine similarity matrix...\n",
      "Done computing similarity matrix.\n",
      "RMSE: 0.7253\n",
      "Computing the cosine similarity matrix...\n",
      "Done computing similarity matrix.\n",
      "RMSE: 0.7270\n",
      "Computing the cosine similarity matrix...\n",
      "Done computing similarity matrix.\n",
      "RMSE: 0.7223\n",
      "Computing the cosine similarity matrix...\n",
      "Done computing similarity matrix.\n",
      "RMSE: 0.7219\n",
      "Computing the cosine similarity matrix...\n",
      "Done computing similarity matrix.\n",
      "RMSE: 0.7221\n",
      "Computing the pearson similarity matrix...\n",
      "Done computing similarity matrix.\n",
      "RMSE: 0.7255\n",
      "Computing the pearson similarity matrix...\n",
      "Done computing similarity matrix.\n",
      "RMSE: 0.7305\n",
      "Computing the pearson similarity matrix...\n",
      "Done computing similarity matrix.\n",
      "RMSE: 0.7299\n",
      "Computing the pearson similarity matrix...\n",
      "Done computing similarity matrix.\n",
      "RMSE: 0.7269\n",
      "Computing the pearson similarity matrix...\n",
      "Done computing similarity matrix.\n",
      "RMSE: 0.7278\n",
      "Computing the pearson similarity matrix...\n",
      "Done computing similarity matrix.\n",
      "RMSE: 0.7203\n",
      "Computing the pearson similarity matrix...\n",
      "Done computing similarity matrix.\n",
      "RMSE: 0.7224\n",
      "Computing the pearson similarity matrix...\n",
      "Done computing similarity matrix.\n",
      "RMSE: 0.7282\n"
     ]
    }
   ],
   "source": [
    "# Entonación de hyperparams tamaño de vecindario y umbral de simulitud modelo item - item \n",
    "\n",
    "medidas = ['cosine', 'pearson', 'jaccard']\n",
    "umbrales = [0.4,0.5, 0.6,0.7,0.8, 0.9]\n",
    "lista = [i*2 for i in range(10, 20)]\n",
    "result = []\n",
    "\n",
    "for h in medidas:\n",
    "    for i in lista:\n",
    "        for j in umbrales:\n",
    "            start_time = time.clock()\n",
    "            valor = modelSR_User_Eval(df_ratings_items, h, i, j, False)\n",
    "            end_time = time.clock()\n",
    "            result.append([i, j, h, start_time, end_time,  valor])\n",
    "            df_evaluacion = pd.DataFrame(result, columns = [\"Tamanio_Vecindario\", \"Umbral_Similitud\", \"Indice\", \"Inicio_seg\", \"Fin_seg\", \"RMSE\"])\n",
    "\n",
    "df_evaluacion.to_pickle(PathItem+\"1.Evaluacion_Cos_Pearson_ModeloItem.pkl\")\n",
    "    "
   ]
  }
 ],
 "metadata": {
  "kernelspec": {
   "display_name": "Python 3",
   "language": "python",
   "name": "python3"
  },
  "language_info": {
   "codemirror_mode": {
    "name": "ipython",
    "version": 3
   },
   "file_extension": ".py",
   "mimetype": "text/x-python",
   "name": "python",
   "nbconvert_exporter": "python",
   "pygments_lexer": "ipython3",
   "version": "3.7.1"
  }
 },
 "nbformat": 4,
 "nbformat_minor": 4
}
